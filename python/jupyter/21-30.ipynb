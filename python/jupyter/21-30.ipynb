{
 "cells": [
  {
   "cell_type": "code",
   "execution_count": 54,
   "metadata": {},
   "outputs": [],
   "source": [
    "import numpy as np\n",
    "%load_ext Cython"
   ]
  },
  {
   "cell_type": "markdown",
   "metadata": {},
   "source": [
    "# 21 「友愛数」\n",
    "d(n) を n の真の約数の和と定義する. (真の約数とは n 以外の約数のことである. )\n",
    "\n",
    "もし, d(a) = b かつ d(b) = a (a ≠ b のとき) を満たすとき, a と b は友愛数(親和数)であるという.\n",
    "\n",
    "例えば, 220 の約数は 1, 2, 4, 5, 10, 11, 20, 22, 44, 55, 110 なので d(220) = 284 である.\n",
    "\n",
    "また, 284 の約数は 1, 2, 4, 71, 142 なので d(284) = 220 である.\n",
    "\n",
    "それでは10000未満の友愛数の和を求めよ."
   ]
  },
  {
   "cell_type": "code",
   "execution_count": 56,
   "metadata": {},
   "outputs": [
    {
     "data": {
      "text/plain": [
       "31626"
      ]
     },
     "execution_count": 56,
     "metadata": {},
     "output_type": "execute_result"
    }
   ],
   "source": [
    "import sympy as sp\n",
    "def divisor_sum(x):\n",
    "    divisors=sp.factorint(x)\n",
    "    divisor=[int(x) for x in divisors.keys()]\n",
    "    power=list(divisors.values())\n",
    "    divsum=1\n",
    "    for n in range(len(divisor)):\n",
    "        hoge=0\n",
    "        for m in range(power[n]+1):\n",
    "            hoge+=divisor[n]**m\n",
    "        divsum*=hoge\n",
    "    return divsum-x\n",
    "list1=[x for x in range(2,10000)]\n",
    "list2=[]\n",
    "for n in list1:\n",
    "    if divisor_sum(n) in list1 and divisor_sum(n) not in list2:\n",
    "        if divisor_sum(divisor_sum(n))==n and divisor_sum(n)!=n:\n",
    "            list2.append(n)\n",
    "            list2.append(divisor_sum(n))\n",
    "sum(list2)\n",
    "            "
   ]
  },
  {
   "cell_type": "markdown",
   "metadata": {},
   "source": [
    "# 22 「名前のスコア」\n",
    "5000個以上の名前が書かれている46Kのテキストファイル filenames.txt を用いる. まずアルファベット順にソートせよ.\n",
    "\n",
    "のち, 各名前についてアルファベットに値を割り振り, リスト中の出現順の数と掛け合わせることで, 名前のスコアを計算する.\n",
    "\n",
    "たとえば, リストがアルファベット順にソートされているとすると, COLINはリストの938番目にある. またCOLINは 3 + 15 + 12 + 9 + 14 = 53 という値を持つ. よってCOLINは 938 × 53 = 49714 というスコアを持つ.\n",
    "\n",
    "ファイル中の全名前のスコアの合計を求めよ."
   ]
  },
  {
   "cell_type": "code",
   "execution_count": 11,
   "metadata": {},
   "outputs": [
    {
     "data": {
      "text/plain": [
       "871198282"
      ]
     },
     "execution_count": 11,
     "metadata": {},
     "output_type": "execute_result"
    }
   ],
   "source": [
    "readfile='22.txt'\n",
    "f=open(readfile,'r',encoding='utf-8')\n",
    "names=f.read().split(',')\n",
    "alpha=list(\"ABCDEFGHIJKLMNOPQRSTUVWXYZ\")\n",
    "def score(x):\n",
    "    score=0\n",
    "    for n in x:\n",
    "        if n in alpha:\n",
    "                score=score+alpha.index(n)+1\n",
    "    return score\n",
    "names.sort()\n",
    "ans=0\n",
    "for n in range(len(names)):\n",
    "    ans=ans+score(names[n])*(n+1)\n",
    "ans"
   ]
  },
  {
   "cell_type": "markdown",
   "metadata": {},
   "source": [
    "# 23 「非過剰数和」 \n",
    "完全数とは, その数の真の約数の和がそれ自身と一致する数のことである. たとえば, 28の真の約数の和は, 1 + 2 + 4 + 7 + 14 = 28 であるので, 28は完全数である.\n",
    "\n",
    "真の約数の和がその数よりも少ないものを不足数といい, 真の約数の和がその数よりも大きいものを過剰数と呼ぶ.\n",
    "\n",
    "12は, 1 + 2 + 3 + 4 + 6 = 16 となるので, 最小の過剰数である. よって2つの過剰数の和で書ける最少の数は24である. 数学的な解析により, 28123より大きい任意の整数は2つの過剰数の和で書けることが知られている. 2つの過剰数の和で表せない最大の数がこの上限よりも小さいことは分かっているのだが, この上限を減らすことが出来ていない.\n",
    "\n",
    "2つの過剰数の和で書き表せない正の整数の総和を求めよ."
   ]
  },
  {
   "cell_type": "code",
   "execution_count": 3,
   "metadata": {},
   "outputs": [],
   "source": [
    "%load_ext Cython"
   ]
  },
  {
   "cell_type": "code",
   "execution_count": 2,
   "metadata": {},
   "outputs": [],
   "source": [
    "from numba import jit\n",
    "import sympy as sp\n",
    "import itertools \n",
    "\n",
    "def divisor_sum(x):\n",
    "    divisors=sp.factorint(x)\n",
    "    divisor=[int(x) for x in divisors.keys()]\n",
    "    power=list(divisors.values())\n",
    "    divsum=1\n",
    "    for n in range(len(divisor)):\n",
    "        hoge=0\n",
    "        for m in range(power[n]+1):\n",
    "            hoge+=divisor[n]**m\n",
    "        divsum*=hoge\n",
    "    return divsum-x\n",
    "list1=[n for n in range(2,28112) if n<divisor_sum(n)]\n",
    "prodiv=list(itertools.product(list1,list1))\n",
    "sumdiv=set([n[0]+n[1] for n in prodiv if n[0]+n[1]<=28122])\n",
    "sum(sumdiv)"
   ]
  },
  {
   "cell_type": "code",
   "execution_count": 16,
   "metadata": {},
   "outputs": [
    {
     "data": {
      "text/plain": [
       "4179871.0"
      ]
     },
     "execution_count": 16,
     "metadata": {},
     "output_type": "execute_result"
    }
   ],
   "source": [
    "28122*28123/2-sum(sumdiv)"
   ]
  },
  {
   "cell_type": "code",
   "execution_count": 19,
   "metadata": {},
   "outputs": [
    {
     "name": "stdout",
     "output_type": "stream",
     "text": [
      "4179871\n"
     ]
    }
   ],
   "source": [
    "abundants = set(i for i in range(1,28124) if divisor_sum(i) > i)\n",
    "#any(iterable) => 1つでも真があればTrueを返す\n",
    "def abundantsum(i):\n",
    "    return any(i-a in abundants for a in abundants)\n",
    "print (sum(i for i in range(1,28124) if not abundantsum(i)))"
   ]
  },
  {
   "cell_type": "markdown",
   "metadata": {},
   "source": [
    "# 24 「辞書式順列」 †\n",
    "順列とはモノの順番付きの並びのことである. たとえば, 3124は数 1, 2, 3, 4 の一つの順列である. すべての順列を数の大小でまたは辞書式に並べたものを辞書順と呼ぶ. 0と1と2の順列を辞書順に並べると\n",
    "\n",
    "012 021 102 120 201 210\n",
    "になる.\n",
    "\n",
    "0,1,2,3,4,5,6,7,8,9からなる順列を辞書式に並べたときの100万番目はいくつか?"
   ]
  },
  {
   "cell_type": "code",
   "execution_count": 53,
   "metadata": {},
   "outputs": [
    {
     "name": "stdout",
     "output_type": "stream",
     "text": [
      "[2, 6, 6, 2, 5, 1, 2, 1, 1, 0] [2, 7, 8, 3, 9, 1, 5, 4, 6, 0]\n"
     ]
    }
   ],
   "source": [
    "'''\n",
    "10!=3628800\n",
    "9!=362880\n",
    "8!=40320\n",
    "7!=5040\n",
    "9!*2+8!*6+...\n",
    "'''\n",
    "import math\n",
    "num=[math.factorial(n) for n in range(10)[::-1]] #[9!,8!,...1!]\n",
    "dict=[]\n",
    "p=10**6-1\n",
    "for n in range(10):\n",
    "    q=p//num[n]\n",
    "    mod=p%num[n]\n",
    "    dict.append(q)\n",
    "    p-=num[n]*q\n",
    "list3=[]\n",
    "list2=[n for n in range(10)]\n",
    "for m in dict:\n",
    "    list3.append(list2.pop(m))\n",
    "print(dict,list3)\n"
   ]
  },
  {
   "cell_type": "markdown",
   "metadata": {},
   "source": [
    "# 25 「1000桁のフィボナッチ数」 †\n",
    "\n",
    "12番目の項, F12が3桁になる最初の項である.\n",
    "\n",
    "1000桁になる最初の項の番号を答えよ."
   ]
  },
  {
   "cell_type": "code",
   "execution_count": 89,
   "metadata": {},
   "outputs": [
    {
     "data": {
      "text/plain": [
       "4782"
      ]
     },
     "execution_count": 89,
     "metadata": {},
     "output_type": "execute_result"
    }
   ],
   "source": [
    "import numpy as np\n",
    "import math\n",
    "gratio=(np.sqrt(5)+1)/2\n",
    "def fibo(x):\n",
    "    fibo=x*math.log10(gratio)-math.log10(np.sqrt(5))\n",
    "    return fibo\n",
    "x=1\n",
    "while fibo(x)<=999:\n",
    "    x=x+1\n",
    "x"
   ]
  },
  {
   "cell_type": "markdown",
   "metadata": {},
   "source": [
    "# Problem 26 「逆数の循環節 その1」 †\n",
    "単位分数とは分子が1の分数である. 分母が2から10の単位分数を10進数で表記すると次のようになる.\n",
    "\n",
    "1/2 = 0.5\n",
    "1/3 = 0.(3)\n",
    "1/4 = 0.25\n",
    "1/5 = 0.2\n",
    "1/6 = 0.1(6)\n",
    "1/7 = 0.(142857)\n",
    "1/8 = 0.125\n",
    "1/9 = 0.(1)\n",
    "1/10 = 0.1\n",
    "\n",
    "0.1(6)は 0.166666... という数字であり, 1桁の循環節を持つ. 1/7 の循環節は6桁ある.\n",
    "\n",
    "d < 1000 なる 1/d の中で小数部の循環節が最も長くなるような d を求めよ."
   ]
  },
  {
   "cell_type": "code",
   "execution_count": 85,
   "metadata": {},
   "outputs": [
    {
     "data": {
      "text/plain": [
       "983"
      ]
     },
     "execution_count": 85,
     "metadata": {},
     "output_type": "execute_result"
    }
   ],
   "source": [
    "'''\n",
    "(999999)/dが整数となる最小の(9...9)の数が最大となるd\n",
    "'''\n",
    "import numpy as np\n",
    "def nines(x):\n",
    "    num=0\n",
    "    for n in range(x):\n",
    "        num+=9*10**n\n",
    "    return num\n",
    "def cicle(x):\n",
    "    n=1\n",
    "    while nines(n)%x!=0:\n",
    "        n+=1\n",
    "    return n\n",
    "a=np.arange(2,1000)\n",
    "b=a[(a%2!=0) & (a%5!=0)]\n",
    "c=[cicle(x) for x in b]\n",
    "b[c.index(max(c))]"
   ]
  },
  {
   "cell_type": "code",
   "execution_count": 89,
   "metadata": {},
   "outputs": [
    {
     "name": "stdout",
     "output_type": "stream",
     "text": [
      "982 983\n"
     ]
    }
   ],
   "source": [
    "import itertools\n",
    "def recur_len(n):\n",
    "    # digits for unit fraction 1/n\n",
    "    r = 10 # initial remainder (10/n)/10\n",
    "    seen = {} # remainder -> first pos\n",
    "    for i in itertools.count(0):\n",
    "        if r == 0:\n",
    "            return 0  # divides evenly.\n",
    "        elif r in seen:\n",
    "            return i-seen[r] # curpos - firstpos\n",
    "        seen[r] = i\n",
    "        r= 10*(r % n)\n",
    "\n",
    "len,i = max((recur_len(i),i) for i in range(2,1000))\n",
    "print (len,i)"
   ]
  },
  {
   "cell_type": "markdown",
   "metadata": {},
   "source": [
    "# Problem 27 「二次式素数」 †\n",
    "オイラーは以下の二次式を考案している:\n",
    "\n",
    "n^2 + n + 41.\n",
    "この式は, n を0から39までの連続する整数としたときに40個の素数を生成する. しかし, n = 40 のとき 402 + 40 + 41 = 40(40 + 1) + 41 となり41で割り切れる. また, n = 41 のときは 412 + 41 + 41 であり明らかに41で割り切れる.\n",
    "\n",
    "計算機を用いて, 二次式 n2 - 79n + 1601 という式が発見できた. これは n = 0 から 79 の連続する整数で80個の素数を生成する. 係数の積は, -79 × 1601 で -126479である.\n",
    "\n",
    "さて, |a| < 1000, |b| ≤ 1000 として以下の二次式を考える\n",
    "\n",
    "n^2 + an + b\n",
    "\n",
    "n = 0 から始めて連続する整数で素数を生成したときに最長の長さとなる上の二次式の, 係数 a, b の積を答えよ."
   ]
  },
  {
   "cell_type": "code",
   "execution_count": 62,
   "metadata": {
    "scrolled": false
   },
   "outputs": [
    {
     "name": "stdout",
     "output_type": "stream",
     "text": [
      "71 [(-61, 971)]\n"
     ]
    }
   ],
   "source": [
    "'''\n",
    "n(n+a)+b\n",
    "b=>79以下の素因数を持たない=>83以上の素数\n",
    "b=>n+aで割り切れてもいけない\n",
    "a=>Odd\n",
    "\n",
    "'''\n",
    "from numba import jit\n",
    "import itertools\n",
    "import sympy\n",
    "@jit\n",
    "def quadra(a,b,x):\n",
    "    val=x**2+a*x+b\n",
    "    return (val)\n",
    "@jit\n",
    "def testp(ablis,start,end):\n",
    "    #f(a,b,x)が[start,end-1]で素数であれば1を返す\n",
    "    for n in range(start,end):\n",
    "        if sympy.isprime(quadra(ablis[0],ablis[1],n))==0:\n",
    "            return 0\n",
    "    return 1\n",
    "\n",
    "def testl(ablis,start):\n",
    "    #startから始めて、f(a,b,x)が素数であるxの最大値を返す\n",
    "    while sympy.isprime(quadra(ablis[0],ablis[1],start))==1:\n",
    "        start+=1\n",
    "    return start\n",
    "\n",
    "alis=[n for n in range(-1000,1001)if n%2==1]\n",
    "blis=[sympy.prime(n) for n in range(1,168)]\n",
    "ablis=list(itertools.product(alis,blis))\n",
    "pro=[]\n",
    "for n in range(len(ablis)):\n",
    "    if testp(ablis[n],0,40)==1:\n",
    "        pro.append(ablis[n]) \n",
    "\n",
    "start=40\n",
    "ans=0\n",
    "ab=[]\n",
    "for n in pro:\n",
    "    if ans<=testl(n,start):\n",
    "        ans=testl(n,start)\n",
    "        ab.append(n)\n",
    "print(ans,ab)"
   ]
  },
  {
   "cell_type": "code",
   "execution_count": 63,
   "metadata": {},
   "outputs": [
    {
     "data": {
      "text/plain": [
       "-59231"
      ]
     },
     "execution_count": 63,
     "metadata": {},
     "output_type": "execute_result"
    }
   ],
   "source": [
    "-61*971"
   ]
  },
  {
   "cell_type": "markdown",
   "metadata": {},
   "source": [
    "# Problem 28 「螺旋状に並んだ数の対角線」 †\n",
    "1から初めて右方向に進み時計回りに数字を増やしていき, 5×5の螺旋が以下のように生成される:\n",
    "\n",
    "21\t22\t23\t24\t25\n",
    "20\t7\t8\t9\t10\n",
    "19\t6\t1\t2\t11\n",
    "18\t5\t4\t3\t12\n",
    "17\t16\t15\t14\t13\n",
    "両対角線上の数字の合計は101であることが確かめられる.\n",
    "\n",
    "1001×1001の螺旋を同じ方法で生成したとき, 対角線上の数字の和はいくつか?"
   ]
  },
  {
   "cell_type": "code",
   "execution_count": 88,
   "metadata": {},
   "outputs": [
    {
     "data": {
      "text/plain": [
       "669171001"
      ]
     },
     "execution_count": 88,
     "metadata": {},
     "output_type": "execute_result"
    }
   ],
   "source": [
    "'''\n",
    "n(n>=2)周目の最初の数は(2,10,26,...)\n",
    "a[n+1]=a[n]+8n\n",
    "四隅の和はS[n]=4a[n]+20n-4\n",
    "S[500]を求める\n",
    "'''\n",
    "def spiral(n):\n",
    "    if n==1:\n",
    "        return 2\n",
    "    else:\n",
    "        return spiral(n-1)+8*(n-1)\n",
    "1+sum([(4*spiral(n)+20*n-4) for n in range(1,501)])"
   ]
  },
  {
   "cell_type": "markdown",
   "metadata": {},
   "source": [
    "# Problem 29 「個別のべき乗」 †\n",
    "2 ≤ a ≤ 5 と 2 ≤ b ≤ 5について, a^b を全て考えてみよう:\n",
    "小さい順に並べ, 同じ数を除いたとすると, 15個の項を得る:\n",
    "\n",
    "4, 8, 9, 16, 25, 27, 32, 64, 81, 125, 243, 256, 625, 1024, 3125\n",
    "\n",
    "2 ≤ a ≤ 100, 2 ≤ b ≤ 100 で同じことをしたときいくつの異なる項が存在するか?"
   ]
  },
  {
   "cell_type": "code",
   "execution_count": 99,
   "metadata": {},
   "outputs": [
    {
     "data": {
      "text/plain": [
       "9183"
      ]
     },
     "execution_count": 99,
     "metadata": {},
     "output_type": "execute_result"
    }
   ],
   "source": [
    "import itertools\n",
    "ablist=list(itertools.product(range(2,101),range(2,101)))\n",
    "powers=[n[0]**n[1] for n in ablist]\n",
    "len(set(powers))"
   ]
  },
  {
   "cell_type": "markdown",
   "metadata": {},
   "source": [
    "# Problem 30 「各桁の5乗」 †\n",
    "驚くべきことに, 各桁を4乗した数の和が元の数と一致する数は3つしかない.\n",
    "\n",
    "1634 = 14 + 64 + 34 + 44\n",
    "8208 = 84 + 24 + 04 + 84\n",
    "9474 = 94 + 44 + 74 + 44\n",
    "ただし, 1=1^4は含まないものとする. この数たちの和は 1634 + 8208 + 9474 = 19316 である.\n",
    "\n",
    "各桁を5乗した数の和が元の数と一致するような数の総和を求めよ."
   ]
  },
  {
   "cell_type": "code",
   "execution_count": 118,
   "metadata": {},
   "outputs": [
    {
     "name": "stdout",
     "output_type": "stream",
     "text": [
      "443839\n"
     ]
    }
   ],
   "source": [
    "%%cython\n",
    "def fpw(x:int):\n",
    "    li=list(str(x))\n",
    "    if x==sum([int(y)**5 for y in li]):\n",
    "        return 1\n",
    "    else:\n",
    "        return 0\n",
    "cdef int x\n",
    "anslist=[x for x in range(2,1000000) if fpw(x)==1]\n",
    "print(sum(anslist))\n"
   ]
  }
 ],
 "metadata": {
  "kernelspec": {
   "display_name": "Python 3",
   "language": "python",
   "name": "python3"
  },
  "language_info": {
   "codemirror_mode": {
    "name": "ipython",
    "version": 3
   },
   "file_extension": ".py",
   "mimetype": "text/x-python",
   "name": "python",
   "nbconvert_exporter": "python",
   "pygments_lexer": "ipython3",
   "version": "3.6.5"
  }
 },
 "nbformat": 4,
 "nbformat_minor": 2
}
