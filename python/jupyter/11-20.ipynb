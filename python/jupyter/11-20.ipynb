{
 "cells": [
  {
   "cell_type": "code",
   "execution_count": 2,
   "metadata": {
    "scrolled": false
   },
   "outputs": [
    {
     "name": "stdout",
     "output_type": "stream",
     "text": [
      "The Cython extension is already loaded. To reload it, use:\n",
      "  %reload_ext Cython\n",
      "2\n"
     ]
    }
   ],
   "source": [
    "%load_ext Cython"
   ]
  },
  {
   "cell_type": "markdown",
   "metadata": {},
   "source": [
    "# Q11 20*20の行列を読み込み、隣接(縦・横・斜め)4数の積の最大値を求める"
   ]
  },
  {
   "cell_type": "code",
   "execution_count": 70,
   "metadata": {
    "scrolled": true
   },
   "outputs": [
    {
     "name": "stdout",
     "output_type": "stream",
     "text": [
      "70600674\n"
     ]
    }
   ],
   "source": [
    "import numpy as np\n",
    "numbers=\"08 02 22 97 38 15 00 40 00 75 04 05 07 78 52 12 50 77 91 08 \\\n",
    "49 49 99 40 17 81 18 57 60 87 17 40 98 43 69 48 04 56 62 00 \\\n",
    "81 49 31 73 55 79 14 29 93 71 40 67 53 88 30 03 49 13 36 65 \\\n",
    "52 70 95 23 04 60 11 42 69 24 68 56 01 32 56 71 37 02 36 91 \\\n",
    "22 31 16 71 51 67 63 89 41 92 36 54 22 40 40 28 66 33 13 80 \\\n",
    "24 47 32 60 99 03 45 02 44 75 33 53 78 36 84 20 35 17 12 50 \\\n",
    "32 98 81 28 64 23 67 10 26 38 40 67 59 54 70 66 18 38 64 70 \\\n",
    "67 26 20 68 02 62 12 20 95 63 94 39 63 08 40 91 66 49 94 21 \\\n",
    "24 55 58 05 66 73 99 26 97 17 78 78 96 83 14 88 34 89 63 72 \\\n",
    "21 36 23 09 75 00 76 44 20 45 35 14 00 61 33 97 34 31 33 95 \\\n",
    "78 17 53 28 22 75 31 67 15 94 03 80 04 62 16 14 09 53 56 92 \\\n",
    "16 39 05 42 96 35 31 47 55 58 88 24 00 17 54 24 36 29 85 57 \\\n",
    "86 56 00 48 35 71 89 07 05 44 44 37 44 60 21 58 51 54 17 58 \\\n",
    "19 80 81 68 05 94 47 69 28 73 92 13 86 52 17 77 04 89 55 40 \\\n",
    "04 52 08 83 97 35 99 16 07 97 57 32 16 26 26 79 33 27 98 66 \\\n",
    "88 36 68 87 57 62 20 72 03 46 33 67 46 55 12 32 63 93 53 69 \\\n",
    "04 42 16 73 38 25 39 11 24 94 72 18 08 46 29 32 40 62 76 36 \\\n",
    "20 69 36 41 72 30 23 88 34 62 99 69 82 67 59 85 74 04 36 16 \\\n",
    "20 73 35 29 78 31 90 01 74 31 49 71 48 86 81 16 23 57 05 54 \\\n",
    "01 70 54 71 83 51 54 69 16 92 33 48 61 43 52 01 89 19 67 48\"\n",
    "splnum=list(map(int,numbers.split()))\n",
    "npnum=np.array([splnum])\n",
    "npnum2=npnum.reshape(20,20)\n",
    "maximum=0\n",
    "for x in range(17):\n",
    "    for y in range(17):\n",
    "            maximum=max([npnum2[x,y]*npnum2[x+1,y]*npnum2[x+2,y]*npnum2[x+3,y], \\\n",
    "                         npnum2[x,y]*npnum2[x,y+1]*npnum2[x,y+2]*npnum2[x,y+3], \\\n",
    "                         npnum2[x,y]*npnum2[x+1,y+1]*npnum2[x+2,y+2]*npnum2[x+3,y+3], \\\n",
    "                         maximum])\n",
    "for x in range(17,20):\n",
    "    for y in range(17):\n",
    "        maximum=max([npnum2[x,y]*npnum2[x,y+1]*npnum2[x,y+2]*npnum2[x,y+3], maximum]) \n",
    "for y in range(17,20):\n",
    "    for x in range(17):\n",
    "        maximum=max([npnum2[x,y]*npnum2[x+1,y]*npnum2[x+2,y]*npnum2[x+3,y], maximum])\n",
    "for x in range(17):\n",
    "    for y in range(3,20):\n",
    "        maximum=max([npnum2[x,y]*npnum2[x+1,y-1]*npnum2[x+2,y-2]*npnum2[x+3,y-3],maximum])\n",
    "print(maximum)"
   ]
  },
  {
   "cell_type": "code",
   "execution_count": 86,
   "metadata": {},
   "outputs": [
    {
     "name": "stdout",
     "output_type": "stream",
     "text": [
      "51267216 48477312 40304286 70600674\n",
      "Answer is 70600674\n"
     ]
    }
   ],
   "source": [
    "from functools import reduce\n",
    "from itertools import product\n",
    "from operator import mul\n",
    "import numpy as np\n",
    "\n",
    "def reduce_mul(num_list):\n",
    "    return reduce(mul, num_list)\n",
    "\n",
    "def step(direction):\n",
    "    e = [0, 1, 2, 3]\n",
    "    r = [0, -1, -2, -3]\n",
    "    z = [0, 0, 0, 0]\n",
    "    step_d = (e, z)\n",
    "    step_r = (z, e)\n",
    "    step_rd = (e, e)\n",
    "    step_ld = (e ,r)\n",
    "    return eval(f\"step_{direction}\")\n",
    "\n",
    "def mul_max(array, direction, xrange, yrange):\n",
    "    _range = list(product(xrange, yrange))\n",
    "    _max = max(\n",
    "        [\n",
    "            reduce_mul(\n",
    "                [array[x[1]+i][x[0]+j] for i, j in zip(step(direction)[0],step(direction)[1])]\n",
    "            )\n",
    "        for x in _range\n",
    "        ]\n",
    "    )\n",
    "    return _max\n",
    "\n",
    "numbers=\"08 02 22 97 38 15 00 40 00 75 04 05 07 78 52 12 50 77 91 08 \\\n",
    "49 49 99 40 17 81 18 57 60 87 17 40 98 43 69 48 04 56 62 00 \\\n",
    "81 49 31 73 55 79 14 29 93 71 40 67 53 88 30 03 49 13 36 65 \\\n",
    "52 70 95 23 04 60 11 42 69 24 68 56 01 32 56 71 37 02 36 91 \\\n",
    "22 31 16 71 51 67 63 89 41 92 36 54 22 40 40 28 66 33 13 80 \\\n",
    "24 47 32 60 99 03 45 02 44 75 33 53 78 36 84 20 35 17 12 50 \\\n",
    "32 98 81 28 64 23 67 10 26 38 40 67 59 54 70 66 18 38 64 70 \\\n",
    "67 26 20 68 02 62 12 20 95 63 94 39 63 08 40 91 66 49 94 21 \\\n",
    "24 55 58 05 66 73 99 26 97 17 78 78 96 83 14 88 34 89 63 72 \\\n",
    "21 36 23 09 75 00 76 44 20 45 35 14 00 61 33 97 34 31 33 95 \\\n",
    "78 17 53 28 22 75 31 67 15 94 03 80 04 62 16 14 09 53 56 92 \\\n",
    "16 39 05 42 96 35 31 47 55 58 88 24 00 17 54 24 36 29 85 57 \\\n",
    "86 56 00 48 35 71 89 07 05 44 44 37 44 60 21 58 51 54 17 58 \\\n",
    "19 80 81 68 05 94 47 69 28 73 92 13 86 52 17 77 04 89 55 40 \\\n",
    "04 52 08 83 97 35 99 16 07 97 57 32 16 26 26 79 33 27 98 66 \\\n",
    "88 36 68 87 57 62 20 72 03 46 33 67 46 55 12 32 63 93 53 69 \\\n",
    "04 42 16 73 38 25 39 11 24 94 72 18 08 46 29 32 40 62 76 36 \\\n",
    "20 69 36 41 72 30 23 88 34 62 99 69 82 67 59 85 74 04 36 16 \\\n",
    "20 73 35 29 78 31 90 01 74 31 49 71 48 86 81 16 23 57 05 54 \\\n",
    "01 70 54 71 83 51 54 69 16 92 33 48 61 43 52 01 89 19 67 48\"\n",
    "\n",
    "arr = np.array(list(map(int,numbers.split(' ')))).reshape(20,20)\n",
    "dmax = mul_max(arr, 'd', range(20), range(17))\n",
    "rmax = mul_max(arr, 'r', range(17), range(20))\n",
    "rdmax = mul_max(arr, 'rd', range(17), range(17))\n",
    "ldmax = mul_max(arr, 'ld', range(3, 20), range(17))\n",
    "\n",
    "print(dmax, rmax, rdmax, ldmax)\n",
    "print(f\"Answer is {max(dmax, rmax, rdmax, ldmax)}\")"
   ]
  },
  {
   "cell_type": "markdown",
   "metadata": {},
   "source": [
    "# Q12 約数の個数が500を超える最小の三角数(Σk=n*(n+1)/2)"
   ]
  },
  {
   "cell_type": "code",
   "execution_count": 133,
   "metadata": {},
   "outputs": [
    {
     "name": "stdout",
     "output_type": "stream",
     "text": [
      "76576500.0\n"
     ]
    }
   ],
   "source": [
    "\n",
    "import numpy as np\n",
    "\n",
    "def dnum(x):\n",
    "    sq=np.sqrt(x)\n",
    "    n=2\n",
    "    d=[]\n",
    "    sum=2\n",
    "    while n<=sq:\n",
    "        if x%n==0:\n",
    "            d=d+[n]\n",
    "            d=d+[x/n]\n",
    "        n=n+1\n",
    "    return 2+len(d)\n",
    "#1とxの分を足す\n",
    "n=10000\n",
    "while dnum(n*(n+1)/2)<500:\n",
    "    n=n+1\n",
    "a=n*(n+1)/2\n",
    "print (a)"
   ]
  },
  {
   "cell_type": "code",
   "execution_count": 134,
   "metadata": {},
   "outputs": [
    {
     "data": {
      "text/plain": [
       "6"
      ]
     },
     "execution_count": 134,
     "metadata": {},
     "output_type": "execute_result"
    }
   ],
   "source": [
    "dnum(28)"
   ]
  },
  {
   "cell_type": "code",
   "execution_count": 152,
   "metadata": {},
   "outputs": [],
   "source": [
    "import math\n",
    "from collections import defaultdict\n",
    "from itertools import takewhile\n",
    "\n",
    "class Divisor:\n",
    "    def __init__(self, number):\n",
    "        self.number = number\n",
    "        self.divisor = self.div(number)\n",
    "        \n",
    "    def div(cls, x):\n",
    "        count = defaultdict(int)\n",
    "        root = int(math.sqrt(x))\n",
    "        for div in range(2,root+1):\n",
    "            if x%div == 0:\n",
    "                count[div] += 1\n",
    "                return(div_num(int(x/div)))\n",
    "        count[x]+=1\n",
    "        val = count\n",
    "        del count\n",
    "        return val\n"
   ]
  },
  {
   "cell_type": "code",
   "execution_count": 153,
   "metadata": {},
   "outputs": [
    {
     "data": {
      "text/plain": [
       "Counter({2: 116, 7: 7})"
      ]
     },
     "execution_count": 153,
     "metadata": {},
     "output_type": "execute_result"
    }
   ],
   "source": [
    "d = Divisor(28)\n",
    "d.divisor"
   ]
  },
  {
   "cell_type": "markdown",
   "metadata": {},
   "source": [
    "# Q13　50桁の数字100個の数字を足して、上10桁を求める"
   ]
  },
  {
   "cell_type": "code",
   "execution_count": 24,
   "metadata": {},
   "outputs": [
    {
     "data": {
      "text/plain": [
       "['5', '5', '3', '7', '3', '7', '6', '2', '3', '0']"
      ]
     },
     "execution_count": 24,
     "metadata": {},
     "output_type": "execute_result"
    }
   ],
   "source": [
    "n100=\"\"\"\n",
    "37107287533902102798797998220837590246510135740250\n",
    "46376937677490009712648124896970078050417018260538\n",
    "74324986199524741059474233309513058123726617309629\n",
    "91942213363574161572522430563301811072406154908250\n",
    "23067588207539346171171980310421047513778063246676\n",
    "89261670696623633820136378418383684178734361726757\n",
    "28112879812849979408065481931592621691275889832738\n",
    "44274228917432520321923589422876796487670272189318\n",
    "47451445736001306439091167216856844588711603153276\n",
    "70386486105843025439939619828917593665686757934951\n",
    "62176457141856560629502157223196586755079324193331\n",
    "64906352462741904929101432445813822663347944758178\n",
    "92575867718337217661963751590579239728245598838407\n",
    "58203565325359399008402633568948830189458628227828\n",
    "80181199384826282014278194139940567587151170094390\n",
    "35398664372827112653829987240784473053190104293586\n",
    "86515506006295864861532075273371959191420517255829\n",
    "71693888707715466499115593487603532921714970056938\n",
    "54370070576826684624621495650076471787294438377604\n",
    "53282654108756828443191190634694037855217779295145\n",
    "36123272525000296071075082563815656710885258350721\n",
    "45876576172410976447339110607218265236877223636045\n",
    "17423706905851860660448207621209813287860733969412\n",
    "81142660418086830619328460811191061556940512689692\n",
    "51934325451728388641918047049293215058642563049483\n",
    "62467221648435076201727918039944693004732956340691\n",
    "15732444386908125794514089057706229429197107928209\n",
    "55037687525678773091862540744969844508330393682126\n",
    "18336384825330154686196124348767681297534375946515\n",
    "80386287592878490201521685554828717201219257766954\n",
    "78182833757993103614740356856449095527097864797581\n",
    "16726320100436897842553539920931837441497806860984\n",
    "48403098129077791799088218795327364475675590848030\n",
    "87086987551392711854517078544161852424320693150332\n",
    "59959406895756536782107074926966537676326235447210\n",
    "69793950679652694742597709739166693763042633987085\n",
    "41052684708299085211399427365734116182760315001271\n",
    "65378607361501080857009149939512557028198746004375\n",
    "35829035317434717326932123578154982629742552737307\n",
    "94953759765105305946966067683156574377167401875275\n",
    "88902802571733229619176668713819931811048770190271\n",
    "25267680276078003013678680992525463401061632866526\n",
    "36270218540497705585629946580636237993140746255962\n",
    "24074486908231174977792365466257246923322810917141\n",
    "91430288197103288597806669760892938638285025333403\n",
    "34413065578016127815921815005561868836468420090470\n",
    "23053081172816430487623791969842487255036638784583\n",
    "11487696932154902810424020138335124462181441773470\n",
    "63783299490636259666498587618221225225512486764533\n",
    "67720186971698544312419572409913959008952310058822\n",
    "95548255300263520781532296796249481641953868218774\n",
    "76085327132285723110424803456124867697064507995236\n",
    "37774242535411291684276865538926205024910326572967\n",
    "23701913275725675285653248258265463092207058596522\n",
    "29798860272258331913126375147341994889534765745501\n",
    "18495701454879288984856827726077713721403798879715\n",
    "38298203783031473527721580348144513491373226651381\n",
    "34829543829199918180278916522431027392251122869539\n",
    "40957953066405232632538044100059654939159879593635\n",
    "29746152185502371307642255121183693803580388584903\n",
    "41698116222072977186158236678424689157993532961922\n",
    "62467957194401269043877107275048102390895523597457\n",
    "23189706772547915061505504953922979530901129967519\n",
    "86188088225875314529584099251203829009407770775672\n",
    "11306739708304724483816533873502340845647058077308\n",
    "82959174767140363198008187129011875491310547126581\n",
    "97623331044818386269515456334926366572897563400500\n",
    "42846280183517070527831839425882145521227251250327\n",
    "55121603546981200581762165212827652751691296897789\n",
    "32238195734329339946437501907836945765883352399886\n",
    "75506164965184775180738168837861091527357929701337\n",
    "62177842752192623401942399639168044983993173312731\n",
    "32924185707147349566916674687634660915035914677504\n",
    "99518671430235219628894890102423325116913619626622\n",
    "73267460800591547471830798392868535206946944540724\n",
    "76841822524674417161514036427982273348055556214818\n",
    "97142617910342598647204516893989422179826088076852\n",
    "87783646182799346313767754307809363333018982642090\n",
    "10848802521674670883215120185883543223812876952786\n",
    "71329612474782464538636993009049310363619763878039\n",
    "62184073572399794223406235393808339651327408011116\n",
    "66627891981488087797941876876144230030984490851411\n",
    "60661826293682836764744779239180335110989069790714\n",
    "85786944089552990653640447425576083659976645795096\n",
    "66024396409905389607120198219976047599490197230297\n",
    "64913982680032973156037120041377903785566085089252\n",
    "16730939319872750275468906903707539413042652315011\n",
    "94809377245048795150954100921645863754710598436791\n",
    "78639167021187492431995700641917969777599028300699\n",
    "15368713711936614952811305876380278410754449733078\n",
    "40789923115535562561142322423255033685442488917353\n",
    "44889911501440648020369068063960672322193204149535\n",
    "41503128880339536053299340368006977710650566631954\n",
    "81234880673210146739058568557934581403627822703280\n",
    "82616570773948327592232845941706525094512325230608\n",
    "22918802058777319719839450180888072429661980811197\n",
    "77158542502016545090413245809786882778948721859617\n",
    "72107838435069186155435662884062257473692284509516\n",
    "20849603980134001723930671666823555245252804609722\n",
    "53503534226472524250874054075591789781264330331690\n",
    "\"\"\"\n",
    "sum1=0\n",
    "for n in range(100):\n",
    "    sum1=sum1+int(n100[51*n+1:51*n+51])\n",
    "list_sum=list(str(sum1))\n",
    "list_sum[0:10]"
   ]
  },
  {
   "cell_type": "markdown",
   "metadata": {},
   "source": [
    "# Q14 1000000未満からスタートしてコラッツ鎖が最長となる数"
   ]
  },
  {
   "cell_type": "code",
   "execution_count": 4,
   "metadata": {},
   "outputs": [
    {
     "data": {
      "text/plain": [
       "837799"
      ]
     },
     "execution_count": 4,
     "metadata": {},
     "output_type": "execute_result"
    }
   ],
   "source": [
    "# even => n/2 odd => 3n+1\n",
    "#500000未満の偶数は全て除外できる\n",
    "#6で割って余り4の物も除外できる\n",
    "from numba import jit\n",
    "@jit('int64(int64)') \n",
    "def collatz(x):\n",
    "        if x==1:\n",
    "            return 1\n",
    "        elif x%2==0:\n",
    "            x=x/2\n",
    "            return collatz(x)+1\n",
    "        else:\n",
    "            x=3*x+1\n",
    "            return collatz(x)+1\n",
    "\n",
    "testlist=[n for n in range(1,1000000) if (n>=500000)|(n%2!=0) or n%6!=4]\n",
    "max(testlist,key=collatz)"
   ]
  },
  {
   "cell_type": "code",
   "execution_count": 5,
   "metadata": {},
   "outputs": [
    {
     "name": "stdout",
     "output_type": "stream",
     "text": [
      "837799\n"
     ]
    }
   ],
   "source": [
    "def collatz2(n): \n",
    "    return n // 2 if n%2 == 0 else 3*n + 1\n",
    "\n",
    "def distance(n, cache={1:1}):\n",
    "    if n not in cache: \n",
    "        cache[n] = distance(collatz2(n)) + 1\n",
    "    return cache[n]\n",
    "\n",
    "print(max(range(1,1000000), key=distance))"
   ]
  },
  {
   "cell_type": "markdown",
   "metadata": {},
   "source": [
    "# Q15 40C20を計算"
   ]
  },
  {
   "cell_type": "code",
   "execution_count": 21,
   "metadata": {},
   "outputs": [
    {
     "name": "stdout",
     "output_type": "stream",
     "text": [
      "137846528820.0\n"
     ]
    }
   ],
   "source": [
    "import math\n",
    "\n",
    "a=math.factorial(40)/(math.factorial(20)**2)\n",
    "print(a)"
   ]
  },
  {
   "cell_type": "markdown",
   "metadata": {},
   "source": [
    "# Q16 2^1000の各桁の和"
   ]
  },
  {
   "cell_type": "code",
   "execution_count": 1,
   "metadata": {
    "scrolled": true
   },
   "outputs": [
    {
     "data": {
      "text/plain": [
       "1366"
      ]
     },
     "execution_count": 1,
     "metadata": {},
     "output_type": "execute_result"
    }
   ],
   "source": [
    "num=2**1000\n",
    "sum([int(n) for n in str(num)])"
   ]
  },
  {
   "cell_type": "markdown",
   "metadata": {},
   "source": [
    "# Q17 1-1000までの英語表記の文字数の和\n",
    "Do not count spaces or hyphens. For example, 342 (three hundred and forty-two) contains 23 letters and 115 (one hundred and fifteen) contains 20 letters. The use of \"and\" when writing out numbers is in compliance with British usage.\n"
   ]
  },
  {
   "cell_type": "code",
   "execution_count": 2,
   "metadata": {},
   "outputs": [
    {
     "name": "stdout",
     "output_type": "stream",
     "text": [
      "21124\n"
     ]
    }
   ],
   "source": [
    "dig1=\"one,two,three,four,five,six,seven,eight,nine,ten\"\n",
    "dig2=\"eleven,twelve,thirteen,fourteen,fifteen,sixteen,seventeen,eighteen,nineteen\"\n",
    "dig3=\"twenty,thirty,forty,fifty,sixty,seventy,eighty,ninety\"\n",
    "\n",
    "one=[len(x) for x in dig1.split(\",\")]\n",
    "teen=[len (x) for x in dig2.split(\",\")]\n",
    "ty=[len(x) for x in dig3.split(\",\")]\n",
    "\n",
    "def lettercount(x):\n",
    "    if len(x)==1:\n",
    "        if x[0]==0:\n",
    "            return 0\n",
    "        else:\n",
    "            return one[x[0]-1]\n",
    "    elif len(x)==2:\n",
    "        if x[0]==0:\n",
    "            del x[0]\n",
    "            return lettercount(x)\n",
    "        elif x[0]==1:\n",
    "            if x[1]==0:\n",
    "                return 3 #ten\n",
    "            else:\n",
    "                return teen[x[1]-1] #-teen\n",
    "        else:\n",
    "            a=ty[x[0]-2]\n",
    "            del x[0]\n",
    "            return a+lettercount(x) #-ty --\n",
    "    elif len(x)==3:\n",
    "        a=one[x[0]-1]\n",
    "        del x[0]\n",
    "        if x[0]==0 and x[1]==0:\n",
    "            return a+7 #-hundred\n",
    "        else:\n",
    "            return a+7+3+lettercount(x) #-hundred (and -ty --)\n",
    "lettercounts=0\n",
    "\n",
    "for n in range (1,1000):\n",
    "    lettercounts+=lettercount([int (x) for x in list(str(n))])\n",
    "lettercounts+=11\n",
    "print(lettercounts) "
   ]
  },
  {
   "cell_type": "code",
   "execution_count": 3,
   "metadata": {},
   "outputs": [
    {
     "name": "stdout",
     "output_type": "stream",
     "text": [
      "21124\n"
     ]
    }
   ],
   "source": [
    "import inflect\n",
    "p = inflect.engine()\n",
    "count = 0\n",
    "for i in range(1,1001):\n",
    "    word = p.number_to_words(i)\n",
    "    for letter in word:\n",
    "        if letter != ' ' and letter != '-':\n",
    "            count+=1\n",
    "print(count)"
   ]
  },
  {
   "cell_type": "markdown",
   "metadata": {},
   "source": [
    "# Q18 「最大経路の和 その1」 \n",
    "以下の三角形を頂点から下まで移動するとき, その最大の和を求めよ."
   ]
  },
  {
   "cell_type": "code",
   "execution_count": 4,
   "metadata": {},
   "outputs": [
    {
     "data": {
      "text/plain": [
       "1074"
      ]
     },
     "execution_count": 4,
     "metadata": {},
     "output_type": "execute_result"
    }
   ],
   "source": [
    "import numpy as np\n",
    "#lとrの組み合わせ \n",
    "tri=\"\"\"\n",
    "75\n",
    "95 64\n",
    "17 47 82\n",
    "18 35 87 10\n",
    "20 04 82 47 65\n",
    "19 01 23 75 03 34\n",
    "88 02 77 73 07 63 67\n",
    "99 65 04 28 06 16 70 92\n",
    "41 41 26 56 83 40 80 70 33\n",
    "41 48 72 33 47 32 37 16 94 29\n",
    "53 71 44 65 25 43 91 52 97 51 14\n",
    "70 11 33 28 77 73 17 78 39 68 17 57\n",
    "91 71 52 38 17 14 91 43 58 50 27 29 48\n",
    "63 66 04 68 89 53 67 30 73 16 69 87 40 31\n",
    "04 62 98 27 23 09 70 98 73 93 38 53 60 04 23\n",
    "\"\"\"\n",
    "\n",
    "\n",
    "trinum=[x.split() for x in tri.splitlines()]\n",
    "npnum=np.zeros((15,15))\n",
    "npnum2=[]\n",
    "for n in range(1,16):\n",
    "    npnum2.append([int(x) for x in trinum[n]])\n",
    "#一つ上の行の隣接数のうち最大なものを足した値に上から順次置換　95->170 47->217　など\n",
    "for n in range(1,15):\n",
    "    for m in range(n+1):\n",
    "        if m==0:\n",
    "            npnum2[n][m]+=npnum2[n-1][m]\n",
    "        elif m==n:\n",
    "            npnum2[n][m]+=(npnum2[n-1][m-1])           \n",
    "        else:\n",
    "            npnum2[n][m]+=max(npnum2[n-1][m-1],npnum2[n-1][m])\n",
    "max(npnum2[14])"
   ]
  },
  {
   "cell_type": "markdown",
   "metadata": {},
   "source": [
    "# Q19 「日曜日の数え上げ」 †\n",
    "次の情報が与えられている.\n",
    "\n",
    "1900年1月1日は月曜日である.\n",
    "9月, 4月, 6月, 11月は30日まであり, 2月を除く他の月は31日まである.\n",
    "2月は28日まであるが, うるう年のときは29日である.\n",
    "うるう年は西暦が4で割り切れる年に起こる. しかし, 西暦が400で割り切れず100で割り切れる年はうるう年でない.\n",
    "\n",
    "20世紀（1901年1月1日から2000年12月31日）中に月の初めが日曜日になるのは何回あるか?"
   ]
  },
  {
   "cell_type": "code",
   "execution_count": 5,
   "metadata": {},
   "outputs": [
    {
     "data": {
      "text/plain": [
       "171"
      ]
     },
     "execution_count": 5,
     "metadata": {},
     "output_type": "execute_result"
    }
   ],
   "source": [
    "# 1901/1/1 = Tuesday \n",
    "days_month=[31,28,31,30,31,30,31,31,30,31,30,31]\n",
    "days_mod=[x%7 for x in days_month]\n",
    "def leap_year(x):\n",
    "    if x%4==0:\n",
    "        if x%100==0 and x%400!=0:\n",
    "            return 0\n",
    "        else:\n",
    "            return 1\n",
    "    else:\n",
    "        return 0\n",
    "#sumdays%7==5のときを数える\n",
    "sumdays=0\n",
    "counts=0\n",
    "for n in range(1901,2001):\n",
    "    for m in days_mod:\n",
    "        if m==28 and leap_year(n)==1:\n",
    "            sumdays+=m+1\n",
    "        else:\n",
    "            sumdays+=m\n",
    "        if sumdays%7==5:\n",
    "            counts+=1\n",
    "counts"
   ]
  },
  {
   "cell_type": "markdown",
   "metadata": {},
   "source": [
    "# Q20 100!の各桁の和"
   ]
  },
  {
   "cell_type": "code",
   "execution_count": 7,
   "metadata": {},
   "outputs": [
    {
     "name": "stdout",
     "output_type": "stream",
     "text": [
      "648\n"
     ]
    }
   ],
   "source": [
    "import math\n",
    "num=math.factorial(100)\n",
    "print(sum([int(n) for n in str(num)]))"
   ]
  }
 ],
 "metadata": {
  "kernelspec": {
   "display_name": "Python 3",
   "language": "python",
   "name": "python3"
  },
  "language_info": {
   "codemirror_mode": {
    "name": "ipython",
    "version": 3
   },
   "file_extension": ".py",
   "mimetype": "text/x-python",
   "name": "python",
   "nbconvert_exporter": "python",
   "pygments_lexer": "ipython3",
   "version": "3.6.5"
  }
 },
 "nbformat": 4,
 "nbformat_minor": 2
}
