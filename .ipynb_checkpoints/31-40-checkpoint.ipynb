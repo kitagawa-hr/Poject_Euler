{
 "cells": [
  {
   "cell_type": "code",
   "execution_count": 136,
   "metadata": {},
   "outputs": [],
   "source": [
    "%load_ext Cython"
   ]
  },
  {
   "cell_type": "markdown",
   "metadata": {},
   "source": [
    "# Problem 31 「硬貨の和」 †\n",
    "イギリスでは硬貨はポンド£とペンスpがあり，一般的に流通している硬貨は以下の8種類である.\n",
    "\n",
    "1p, 2p, 5p, 10p, 20p, 50p, £1 (100p) and £2 (200p).\n",
    "\n",
    "以下の方法で£2を作ることが可能である．\n",
    "\n",
    "1×£1 + 1×50p + 2×20p + 1×5p + 1×2p + 3×1p\n",
    "\n",
    "これらの硬貨を使って£2を作る方法は何通りあるか?"
   ]
  },
  {
   "cell_type": "code",
   "execution_count": 15,
   "metadata": {
    "scrolled": true
   },
   "outputs": [
    {
     "name": "stdout",
     "output_type": "stream",
     "text": [
      "64000000\n"
     ]
    }
   ],
   "source": [
    "import itertools\n",
    "from collections import Counter\n",
    "coins=[1,2,5,10,20,50,100,200]\n",
    "for n in range(8):\n",
    "    for  m in range(200//coins[n]): # number of coins are under m\n",
    "        \n",
    "\n"
   ]
  },
  {
   "cell_type": "markdown",
   "metadata": {},
   "source": [
    "200*1 , 100+100 , 100+50*2,100+..."
   ]
  },
  {
   "cell_type": "code",
   "execution_count": null,
   "metadata": {},
   "outputs": [],
   "source": [
    "200\n",
    "100 100\n",
    "50 50\n",
    "20 30\n",
    "10 10 10 20"
   ]
  },
  {
   "cell_type": "markdown",
   "metadata": {},
   "source": [
    "# Problem 32 「パンデジタル積」 †\n",
    "すべての桁に 1 から n が一度だけ使われている数をn桁の数がパンデジタル (pandigital) であるということにしよう: 例えば5桁の数 15234 は1から5のパンデジタルである.\n",
    "\n",
    "7254 は面白い性質を持っている. 39 × 186 = 7254 と書け, 掛けられる数, 掛ける数, 積が1から9のパンデジタルとなる.\n",
    "\n",
    "掛けられる数/掛ける数/積が1から9のパンデジタルとなるような積の総和を求めよ.\n",
    "\n",
    "HINT: いくつかの積は, 1通り以上の掛けられる数/掛ける数/積の組み合わせを持つが1回だけ数え上げよ."
   ]
  },
  {
   "cell_type": "code",
   "execution_count": 88,
   "metadata": {},
   "outputs": [
    {
     "data": {
      "text/plain": [
       "45228"
      ]
     },
     "execution_count": 88,
     "metadata": {},
     "output_type": "execute_result"
    }
   ],
   "source": [
    "'''\n",
    "1桁 *4桁=4桁\n",
    "2桁*3桁=4桁\n",
    "'''\n",
    "import itertools\n",
    "nummber=lambda nums:sum([num*10**(len(nums)-index-1) for index, num in enumerate(nums)]) #list -> num\n",
    "test=lambda y: all([x in y for x in [str(z) for z in range(1,10)]]) #  1-9が全て含まれているか判定\n",
    "numlis=[1,2,3,4,5,6,7,8,9]\n",
    "\n",
    "b1=list(itertools.permutations(numlis,4)) #[(1,2,3,4)...]\n",
    "a1_num=numlis\n",
    "b1_num=[nummber(x) for x in b1]#[1234,1235,...]\n",
    "ab1=list(itertools.product(a1_num,b1_num))  #[(1,1234),...]\n",
    "ab1_product=[str(x[0])+str(x[1])+str(x[0]*x[1]) for x in ab1]\n",
    "ans_list1=[int(x[-4:]) for x in ab1_product if test(x) and len(x)==9]\n",
    "\n",
    "a2=list(itertools.permutations(numlis,2)) #[(1,2),(1,3)...]\n",
    "b2=list(itertools.permutations(numlis,3)) #[(1,2,3)...]\n",
    "a2_num=[nummber(x) for x in a2] #[12,13,...]\n",
    "b2_num=[nummber(x) for x in b2]#[123,124,...]\n",
    "ab2=list(itertools.product(a2_num,b2_num))  #[(12,123),...]\n",
    "ab2_product=[str(x[0])+str(x[1])+str(x[0]*x[1]) for x in ab2 ]\n",
    "ans_list2=[int(x[-4:]) for x in ab_product if test(x) and len(x) == 9]\n",
    "sum(set(ans_list1))+sum(set(ans_list2)) #重複を削除"
   ]
  },
  {
   "cell_type": "code",
   "execution_count": 89,
   "metadata": {
    "scrolled": true
   },
   "outputs": [
    {
     "name": "stdout",
     "output_type": "stream",
     "text": [
      "45228\n"
     ]
    }
   ],
   "source": [
    "p = set()\n",
    "for a in range(1, 100):\n",
    "    for b in range(1, 9999 // a):\n",
    "        if ''.join(sorted(\"%d%d%d\" % (a, b, a*b))) == '123456789':\n",
    "            p.add(a * b)\n",
    "print(sum(p))"
   ]
  },
  {
   "cell_type": "code",
   "execution_count": 90,
   "metadata": {},
   "outputs": [
    {
     "name": "stdout",
     "output_type": "stream",
     "text": [
      "45228\n"
     ]
    }
   ],
   "source": [
    "print(sum({x*y for x in range(1,50) for y in range(100,2000) if ''.join(sorted(str(x)+str(y)+str(x*y))) == '123456789'}))"
   ]
  },
  {
   "cell_type": "markdown",
   "metadata": {},
   "source": [
    "# Problem 33 「桁消去分数」 †\n",
    "49/98は面白い分数である.「分子と分母からそれぞれ9を取り除くと, 49/98 = 4/8 となり, 簡単な形にすることができる」と経験の浅い数学者が誤って思い込んでしまうかもしれないからである. (方法は正しくないが，49/98の場合にはたまたま正しい約分になってしまう．)\n",
    "\n",
    "我々は 30/50 = 3/5 のようなタイプは自明な例だとする.\n",
    "\n",
    "このような分数のうち, 1より小さく分子・分母がともに2桁の数になるような自明でないものは, 4個ある.\n",
    "\n",
    "その4個の分数の積が約分された形で与えられたとき, 分母の値を答えよ."
   ]
  },
  {
   "cell_type": "code",
   "execution_count": 124,
   "metadata": {},
   "outputs": [
    {
     "data": {
      "text/plain": [
       "(1, 100)"
      ]
     },
     "execution_count": 124,
     "metadata": {},
     "output_type": "execute_result"
    }
   ],
   "source": [
    "'''\n",
    "a/b as a<b\n",
    "a/b=c/d\n",
    "a*d=b*c\n",
    "'''\n",
    "from functools import reduce\n",
    "import math\n",
    "\n",
    "def reduction(p, q):\n",
    "    common = math.gcd(p, q)\n",
    "    return (p // common, q // common)\n",
    "\n",
    "ans=[]\n",
    "num=[str(y) for y in range(1,10)]\n",
    "b_list=[x for x in range(10,100) if x%10!=0]\n",
    "for b in b_list:\n",
    "    for a in [x for x in range(10,b) if x%10!=0]:\n",
    "        common=[x for x in num if (x in str(a) and x in str(b))]\n",
    "        if len(common)==1:\n",
    "            c=str(a).replace(common[0],'')\n",
    "            d=str(b).replace(common[0],'')\n",
    "            if c=='' or d=='':\n",
    "                continue\n",
    "            elif a*int(d)==b*int(c):\n",
    "                ans.append([a,b])\n",
    "child=reduce(lambda x,y:x*y, [x[0] for x in ans])\n",
    "mother=reduce(lambda x,y:x*y, [x[1] for x in ans])\n",
    "reduction(child,mother)"
   ]
  },
  {
   "cell_type": "markdown",
   "metadata": {},
   "source": [
    "# Problem 34 「桁の階乗」 †\n",
    "145は面白い数である. 1! + 4! + 5! = 1 + 24 + 120 = 145となる.\n",
    "\n",
    "各桁の数の階乗の和が自分自身と一致するような数の和を求めよ.\n",
    "\n",
    "注: 1! = 1 と 2! = 2 は総和に含めてはならない."
   ]
  },
  {
   "cell_type": "code",
   "execution_count": 39,
   "metadata": {},
   "outputs": [
    {
     "name": "stdout",
     "output_type": "stream",
     "text": [
      "40730\n"
     ]
    }
   ],
   "source": [
    "'''\n",
    "9!*9まで調べればよい\n",
    "'''\n",
    "from numba import jit\n",
    "import math\n",
    "@jit\n",
    "def facteq(x):\n",
    "    fac=str(x)\n",
    "    facsum=0\n",
    "    for n in fac:\n",
    "        facsum+=math.factorial(int(n))\n",
    "    if x==facsum:\n",
    "        return 1\n",
    "    else:\n",
    "        return 0\n",
    "@jit\n",
    "def main():\n",
    "    eqlis=[]\n",
    "    test_range=9*math.factorial(9)\n",
    "    for n in range(1,test_range):\n",
    "        if facteq(n)==1:\n",
    "            eqlis.append(n)\n",
    "    print(sum(eqlis)-3)\n",
    "main()"
   ]
  },
  {
   "cell_type": "markdown",
   "metadata": {},
   "source": [
    "# Problem 35 「巡回素数」 †\n",
    "197は巡回素数と呼ばれる. 桁を回転させたときに得られる数 197, 971, 719 が全て素数だからである.\n",
    "\n",
    "100未満には巡回素数が13個ある: 2, 3, 5, 7, 11, 13, 17, 31, 37, 71, 73, 79, および97である.\n",
    "\n",
    "100万未満の巡回素数はいくつあるか?"
   ]
  },
  {
   "cell_type": "code",
   "execution_count": 25,
   "metadata": {},
   "outputs": [
    {
     "ename": "NameError",
     "evalue": "name 'circular' is not defined",
     "output_type": "error",
     "traceback": [
      "\u001b[0;31m---------------------------------------------------------------------------\u001b[0m",
      "\u001b[0;31mNameError\u001b[0m                                 Traceback (most recent call last)",
      "\u001b[0;32m<ipython-input-25-54209d0eda54>\u001b[0m in \u001b[0;36m<module>\u001b[0;34m()\u001b[0m\n\u001b[1;32m     14\u001b[0m \u001b[0mprimes\u001b[0m\u001b[0;34m=\u001b[0m\u001b[0;34m[\u001b[0m\u001b[0mlist_to_num\u001b[0m\u001b[0;34m(\u001b[0m\u001b[0mn\u001b[0m\u001b[0;34m)\u001b[0m \u001b[0;32mfor\u001b[0m \u001b[0mn\u001b[0m \u001b[0;32min\u001b[0m \u001b[0mnumlis\u001b[0m \u001b[0;32mif\u001b[0m \u001b[0msympy\u001b[0m\u001b[0;34m.\u001b[0m\u001b[0misprime\u001b[0m\u001b[0;34m(\u001b[0m\u001b[0mlist_to_num\u001b[0m\u001b[0;34m(\u001b[0m\u001b[0mn\u001b[0m\u001b[0;34m)\u001b[0m\u001b[0;34m)\u001b[0m\u001b[0;34m==\u001b[0m\u001b[0;36m1\u001b[0m\u001b[0;34m]\u001b[0m \u001b[0;31m#n-digits primes\u001b[0m\u001b[0;34m\u001b[0m\u001b[0m\n\u001b[1;32m     15\u001b[0m \u001b[0;32mfor\u001b[0m \u001b[0mx\u001b[0m \u001b[0;32min\u001b[0m \u001b[0mprimes\u001b[0m\u001b[0;34m:\u001b[0m\u001b[0;34m\u001b[0m\u001b[0m\n\u001b[0;32m---> 16\u001b[0;31m     \u001b[0mli\u001b[0m\u001b[0;34m=\u001b[0m\u001b[0mcircular\u001b[0m\u001b[0;34m(\u001b[0m\u001b[0mlist\u001b[0m\u001b[0;34m(\u001b[0m\u001b[0mmap\u001b[0m\u001b[0;34m(\u001b[0m\u001b[0mint\u001b[0m\u001b[0;34m,\u001b[0m\u001b[0mlist\u001b[0m\u001b[0;34m(\u001b[0m\u001b[0mstr\u001b[0m\u001b[0;34m(\u001b[0m\u001b[0mx\u001b[0m\u001b[0;34m)\u001b[0m\u001b[0;34m)\u001b[0m\u001b[0;34m)\u001b[0m\u001b[0;34m)\u001b[0m\u001b[0;34m,\u001b[0m\u001b[0;36m3\u001b[0m\u001b[0;34m)\u001b[0m \u001b[0;31m# ex. [113,131,311,...] for 113\u001b[0m\u001b[0;34m\u001b[0m\u001b[0m\n\u001b[0m\u001b[1;32m     17\u001b[0m     \u001b[0;32mif\u001b[0m \u001b[0mall\u001b[0m\u001b[0;34m(\u001b[0m\u001b[0;34m[\u001b[0m\u001b[0msympy\u001b[0m\u001b[0;34m.\u001b[0m\u001b[0misprime\u001b[0m\u001b[0;34m(\u001b[0m\u001b[0mz\u001b[0m\u001b[0;34m)\u001b[0m \u001b[0;32mfor\u001b[0m \u001b[0mz\u001b[0m \u001b[0;32min\u001b[0m \u001b[0;34m[\u001b[0m\u001b[0mlist_to_num\u001b[0m\u001b[0;34m(\u001b[0m\u001b[0mw\u001b[0m\u001b[0;34m)\u001b[0m \u001b[0;32mfor\u001b[0m \u001b[0mw\u001b[0m \u001b[0;32min\u001b[0m \u001b[0mli\u001b[0m\u001b[0;34m]\u001b[0m\u001b[0;34m]\u001b[0m\u001b[0;34m)\u001b[0m\u001b[0;34m:\u001b[0m\u001b[0;34m\u001b[0m\u001b[0m\n\u001b[1;32m     18\u001b[0m         \u001b[0mprint\u001b[0m\u001b[0;34m(\u001b[0m\u001b[0mx\u001b[0m\u001b[0;34m)\u001b[0m\u001b[0;34m\u001b[0m\u001b[0m\n",
      "\u001b[0;31mNameError\u001b[0m: name 'circular' is not defined"
     ]
    }
   ],
   "source": [
    "'''\n",
    "二桁以上のとき\n",
    "0,2,4,5,6,8を含まない\n",
    "1,3,7,9の組み合わせ\n",
    "4**6=4096通り\n",
    "'''\n",
    "import itertools \n",
    "import sympy\n",
    "list_to_num=lambda nums:sum([num*10**(len(nums)-index-1) for index, num in enumerate(nums)]) \n",
    "\n",
    "\n",
    "num=[1,3,7,9]\n",
    "numlis=list(itertools.product(num,repeat=2))\n",
    "primes=[list_to_num(n) for n in numlis if sympy.isprime(list_to_num(n))==1] #n-digits primes\n",
    "for x in primes:\n",
    "    li=circular(list(map(int,list(str(x)))),3) # ex. [113,131,311,...] for 113\n",
    "    if all([sympy.isprime(z) for z in [list_to_num(w) for w in li]]):\n",
    "        print(x)"
   ]
  },
  {
   "cell_type": "code",
   "execution_count": null,
   "metadata": {},
   "outputs": [],
   "source": [
    "# [3,4,5]->[[4,5,3],[5,3,4]]\n",
    "circular=lambda numlis:[]"
   ]
  },
  {
   "cell_type": "markdown",
   "metadata": {},
   "source": [
    "# Problem 36 「二種類の基数による回文数」 †\n",
    "585 = 10010010012 (2進) は10進でも2進でも回文数である.\n",
    "\n",
    "100万未満で10進でも2進でも回文数になるような数の総和を求めよ.\n",
    "\n",
    "(注: 先頭に0を含めて回文にすることは許されない.)"
   ]
  },
  {
   "cell_type": "code",
   "execution_count": null,
   "metadata": {},
   "outputs": [],
   "source": []
  },
  {
   "cell_type": "markdown",
   "metadata": {},
   "source": [
    "# Problem 37 「切り詰め可能素数」 †\n",
    "3797は面白い性質を持っている. まずそれ自身が素数であり, 左から右に桁を除いたときに全て素数になっている (3797, 797, 97, 7). 同様に右から左に桁を除いたときも全て素数である (3797, 379, 37, 3).\n",
    "\n",
    "右から切り詰めても左から切り詰めても素数になるような素数は11個しかない. 総和を求めよ.\n",
    "\n",
    "注: 2, 3, 5, 7を切り詰め可能な素数とは考えない."
   ]
  },
  {
   "cell_type": "code",
   "execution_count": 93,
   "metadata": {
    "scrolled": true
   },
   "outputs": [
    {
     "name": "stdout",
     "output_type": "stream",
     "text": [
      "[23, 37, 53, 73, 313, 317, 373, 797, 3137, 3797, 739397]\n",
      "748317\n"
     ]
    }
   ],
   "source": [
    "import math\n",
    "from functools import reduce\n",
    "from collections import Counter\n",
    "from itertools import  product\n",
    "\n",
    "def is_prime(x):\n",
    "    if x < 2: return False \n",
    "    if x == 2 or x == 3 or x == 5: return True \n",
    "    if x % 2 == 0 or x % 3 == 0 or x % 5 == 0: return False \n",
    "    prime = 7\n",
    "    \n",
    "    step = 4\n",
    "    while prime <= math.sqrt(x):\n",
    "        if x % prime == 0: return False\n",
    "\n",
    "        prime += step\n",
    "        step = 6 - step\n",
    "\n",
    "    return True\n",
    "def truncate(num_lis):\n",
    "    dellist = lambda items, indexes: [item for index, item in enumerate(items) if index not in indexes]\n",
    "    nummber=lambda nums:sum([num*10**(len(nums)-index-1) for index, num in enumerate(nums)])\n",
    "    tmp=num_lis\n",
    "    ans=[tmp]\n",
    "    for n in range(1,len(tmp)):\n",
    "        ans.append(dellist(tmp,range(n)))\n",
    "        ans.append(dellist(tmp,range(len(tmp)-n,len(tmp))))\n",
    "    return [nummber(x) for x in ans]\n",
    "def isTruncatable(prime_num):\n",
    "    prime_lis=list(map(int,list(str(prime_num))))\n",
    "    truncated=truncate(prime_lis)\n",
    "    for x in truncated[::-1]:\n",
    "        if is_prime(x)==0:\n",
    "            return 0\n",
    "    return 1\n",
    "count=4 #23,37,53,73\n",
    "#3桁以上は[2,3,5,7]+...[1,3,7,9]...+[3,7]\n",
    "nn=[1,3,7,9]\n",
    "nummber=lambda nums:sum([num*10**(len(nums)-index-1) for index, num in enumerate(nums)])\n",
    "ans=[23,37,53,73]\n",
    "n=3\n",
    "while count<11:\n",
    "    prime_num_list=product(nn,repeat=n)\n",
    "    prime_num=[nummber(x) for x in list(prime_num_list)]\n",
    "    for y in prime_num:\n",
    "        if isTruncatable(y):\n",
    "            ans.append(y)\n",
    "            count+=1\n",
    "    n+=1\n",
    "print(ans)\n",
    "print(sum(ans))"
   ]
  },
  {
   "cell_type": "markdown",
   "metadata": {},
   "source": [
    "# 38 \n",
    "192 に 1, 2, 3 を掛けてみよう.\n",
    "\n",
    "192 × 1 = 192\n",
    "192 × 2 = 384\n",
    "192 × 3 = 576\n",
    "\n",
    "積を連結することで1から9の パンデジタル数 192384576 が得られる. 192384576 を 192 と (1,2,3) の連結積と呼ぶ.\n",
    "\n",
    "同じようにして, 9 を 1,2,3,4,5 と掛け連結することでパンデジタル数 918273645 が得られる. これは 9 と (1,2,3,4,5) との連結積である.\n",
    "\n",
    "整数と (1,2,...,n) (n > 1) との連結積として得られる9桁のパンデジタル数の中で最大のものはいくつか?"
   ]
  },
  {
   "cell_type": "code",
   "execution_count": 1,
   "metadata": {},
   "outputs": [
    {
     "name": "stdout",
     "output_type": "stream",
     "text": [
      "['9', '3', '2', '7', '1', '8', '6', '5', '4']\n"
     ]
    }
   ],
   "source": [
    "def uniq(li):\n",
    "    li_uniq = []\n",
    "    for x in li:\n",
    "        if x not in li_uniq:\n",
    "            li_uniq.append(x)\n",
    "    return li_uniq\n",
    "\n",
    "def ans(x):\n",
    "    while x>9182:\n",
    "       \n",
    "        list1=list(str(x))\n",
    "        list2=list(str(2*x))\n",
    "        if \"0\" in list1 or \"0\" in list2:\n",
    "            x=x-1\n",
    "        elif len(uniq(list1))==4 and len(uniq(list2))==5:\n",
    "            for y in list1:\n",
    "                if y in list2:\n",
    "                    list1[:]=[]\n",
    "                    list2[:]=[]\n",
    "                    break\n",
    "                else:\n",
    "                    continue\n",
    "            if len(list1)>0:\n",
    "                return list1[0:4]+list2[0:5]\n",
    "            else:\n",
    "                x=x-1\n",
    "        else:\n",
    "            x=x-1\n",
    "print (ans(9876))"
   ]
  },
  {
   "cell_type": "markdown",
   "metadata": {},
   "source": [
    "# 39 「整数の直角三角形」 \n",
    "辺の長さが {a,b,c} と整数の3つ組である直角三角形を考え, その周囲の長さを p とする. p = 120のときには3つの解が存在する:\n",
    "\n",
    "{20,48,52}, {24,45,51}, {30,40,50}\n",
    "\n",
    "p ≤ 1000 のとき解の数が最大になる p はいくつか?"
   ]
  },
  {
   "cell_type": "code",
   "execution_count": 14,
   "metadata": {},
   "outputs": [
    {
     "data": {
      "text/plain": [
       "[[20.0, 48.0, 52.0]]"
      ]
     },
     "execution_count": 14,
     "metadata": {},
     "output_type": "execute_result"
    }
   ],
   "source": [
    "'''\n",
    "m>n\n",
    "a=m^2-n^2\n",
    "b=2mn\n",
    "c=m^2+n^2\n",
    "p=2m(m+n)\n",
    "\n",
    "'''\n",
    "import math\n",
    "def pitag_eq(x,y):\n",
    "    x.sort()\n",
    "    y.sort()\n",
    "    if x[0]*y[1]==x[1]*y[0]:\n",
    "        return 1\n",
    "    else:\n",
    "        return 0\n",
    "def pitag_enum(p):\n",
    "    if p%2!=0:\n",
    "        return 0\n",
    "    else:\n",
    "        p/=2\n",
    "        pitag=[]\n",
    "        for n in range(2,int(p)):\n",
    "            if p%n==0:\n",
    "                x=n\n",
    "                y=p/n-x\n",
    "                if x>y and y>0:\n",
    "                    pitag.append([x**2-y**2,2*x*y,x**2+y**2]) \n",
    "        return pitag\n",
    "pitag_enum(120)\n"
   ]
  },
  {
   "cell_type": "code",
   "execution_count": 12,
   "metadata": {},
   "outputs": [
    {
     "data": {
      "text/plain": [
       "[(-3480, 118, 3482),\n",
       " (-780, 112, 788),\n",
       " (-280, 102, 298),\n",
       " (-105, 88, 137),\n",
       " (-24, 70, 74),\n",
       " (20, 48, 52)]"
      ]
     },
     "execution_count": 12,
     "metadata": {},
     "output_type": "execute_result"
    }
   ],
   "source": [
    "'''\n",
    "m>n\n",
    "a=m^2-n^2\n",
    "b=2mn\n",
    "c=m^2+n^2\n",
    "p/2=m(m+n)\n",
    "\n",
    "'''\n",
    "xlis=[1,2,3,4,5,6]\n",
    "ylis=[59,28,17,11,7,4]\n",
    "[(x**2-y**2,2*x*y,x**2+y**2)  for x,y in zip(xlis,ylis)] "
   ]
  },
  {
   "cell_type": "markdown",
   "metadata": {},
   "source": [
    "# 40 「チャンパーノウン定数」 \n",
    "正の整数を順に連結して得られる以下の10進の無理数を考える:\n",
    "\n",
    "0.123456789101112131415161718192021...\n",
    "小数第12位は1である.\n",
    "\n",
    "dnで小数第n位の数を表す. d1 × d10 × d100 × d1000 × d10000 × d100000 × d1000000 を求めよ."
   ]
  },
  {
   "cell_type": "code",
   "execution_count": 94,
   "metadata": {},
   "outputs": [
    {
     "name": "stdout",
     "output_type": "stream",
     "text": [
      "1\n",
      "5\n",
      "3\n",
      "7\n",
      "2\n",
      "210\n"
     ]
    }
   ],
   "source": [
    "import itertools\n",
    "def d(x):\n",
    "    key=list(itertools.accumulate([9,180,2700,36000,450000,5400000]))\n",
    "    if x<=key[0]:\n",
    "        return x\n",
    "        \n",
    "    for n in range(1,5):\n",
    "        if x<=key[n]:\n",
    "            r=(x-key[n-1])%(n+1)\n",
    "            q=(x-key[n-1]-r)/(n+1)\n",
    "            if r==0:\n",
    "                strr=str(int(10**n+q-1))\n",
    "                return strr[-1]\n",
    "            else:\n",
    "                strr=str(int(10**n+q))\n",
    "                return strr[r-1]\n",
    "    return \"too big\"\n",
    "ans=1\n",
    "for n in range(1,6):\n",
    "    print(d(10**n))\n",
    "    ans=ans*int(d(10**n))\n",
    "print (ans) "
   ]
  },
  {
   "cell_type": "code",
   "execution_count": 2,
   "metadata": {},
   "outputs": [
    {
     "data": {
      "text/plain": [
       "120"
      ]
     },
     "execution_count": 2,
     "metadata": {},
     "output_type": "execute_result"
    }
   ],
   "source": [
    "#listの積を求める手法\n",
    "import functools\n",
    "import operator\n",
    "#functool.reduce(function,iterable)\n",
    "#reduce(lambda x, y: x+y, [1, 2, 3, 4, 5]) => ((((1+2)+3)+4)+5)\n",
    "#operator.mul(x,y)=>x*y =lambda x,y:x*y\n",
    "result = functools.reduce(operator.mul,[n for n in range(1,6)] )\n",
    "result"
   ]
  }
 ],
 "metadata": {
  "kernelspec": {
   "display_name": "Python 2",
   "language": "python",
   "name": "python2"
  },
  "language_info": {
   "codemirror_mode": {
    "name": "ipython",
    "version": 3
   },
   "file_extension": ".py",
   "mimetype": "text/x-python",
   "name": "python",
   "nbconvert_exporter": "python",
   "pygments_lexer": "ipython3",
   "version": "3.6.5"
  }
 },
 "nbformat": 4,
 "nbformat_minor": 2
}
