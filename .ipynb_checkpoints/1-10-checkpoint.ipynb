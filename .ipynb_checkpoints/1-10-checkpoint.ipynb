{
 "cells": [
  {
   "cell_type": "code",
   "execution_count": 27,
   "metadata": {},
   "outputs": [],
   "source": [
    "%load_ext Cython"
   ]
  },
  {
   "cell_type": "markdown",
   "metadata": {},
   "source": [
    "# Q1 1000以下の3,5の倍数の和を求めよ\n",
    "\n",
    "numpyのブールインデックス参照を用いた　https://hydrocul.github.io/wiki/numpy/ndarray-ref-boolean.html"
   ]
  },
  {
   "cell_type": "code",
   "execution_count": 1,
   "metadata": {},
   "outputs": [
    {
     "name": "stdout",
     "output_type": "stream",
     "text": [
      "233168\n"
     ]
    }
   ],
   "source": [
    "import numpy as np\n",
    "a1=np.arange(1,1000)\n",
    "b1=a1[(a1%3==0)|(a1%5==0)]\n",
    "print (np.sum(b1))"
   ]
  },
  {
   "cell_type": "markdown",
   "metadata": {},
   "source": [
    "# Q2 4000000以下で偶数のフィボナッチ行列の和を求めよ"
   ]
  },
  {
   "cell_type": "code",
   "execution_count": 10,
   "metadata": {},
   "outputs": [
    {
     "name": "stdout",
     "output_type": "stream",
     "text": [
      "9227463\n"
     ]
    }
   ],
   "source": [
    "from numba import jit\n",
    "@jit('int64(int64)')\n",
    "def fibo(x):\n",
    "    if x==1:\n",
    "        return 1\n",
    "    elif x==2:\n",
    "        return 2\n",
    "    else:\n",
    "        return fibo(x-1)+fibo(x-2)\n",
    "sum=0\n",
    "x=1\n",
    "while fibo(x)<=4000000:\n",
    "    sum=sum+fibo(x)\n",
    "    x+=1\n",
    "print (sum)"
   ]
  },
  {
   "cell_type": "markdown",
   "metadata": {},
   "source": [
    "# Q3 600851475143の最大の素因数を求める"
   ]
  },
  {
   "cell_type": "code",
   "execution_count": 11,
   "metadata": {},
   "outputs": [
    {
     "name": "stdout",
     "output_type": "stream",
     "text": [
      "6857\n"
     ]
    }
   ],
   "source": [
    "import numpy as np\n",
    "number=600851475143\n",
    "q=2\n",
    "p=2\n",
    "while q<=number:\n",
    "        if number%q==0:\n",
    "            number=number/q\n",
    "            if q>=p:\n",
    "                p=q                       \n",
    "            q=2\n",
    "        else:\n",
    "            q=q+1\n",
    "print(p)"
   ]
  },
  {
   "cell_type": "code",
   "execution_count": 12,
   "metadata": {},
   "outputs": [
    {
     "data": {
      "text/plain": [
       "6857"
      ]
     },
     "execution_count": 12,
     "metadata": {},
     "output_type": "execute_result"
    }
   ],
   "source": [
    "import sympy\n",
    "from operator import itemgetter\n",
    "number=600851475143\n",
    "divisor=sympy.factorint(number)\n",
    "max(divisor.items(),key=lambda x:x[0])[0]"
   ]
  },
  {
   "cell_type": "markdown",
   "metadata": {},
   "source": [
    "# Q4 回文数のうち、三桁*三桁で表せる最大の数"
   ]
  },
  {
   "cell_type": "code",
   "execution_count": 1,
   "metadata": {},
   "outputs": [
    {
     "name": "stdout",
     "output_type": "stream",
     "text": [
      "906609\n"
     ]
    }
   ],
   "source": [
    "from itertools import takewhile, count\n",
    "def is_trunc(x):\n",
    "    x=str(x)\n",
    "    if x==x[::-1]:\n",
    "        return True\n",
    "    return False\n",
    "\n",
    "def is_div(x):\n",
    "    if any([(x%i == 0) and (100 <= x/i <= 999) for i in range(2,999)]):\n",
    "        return True\n",
    "    return False\n",
    "num = 999*999\n",
    "while not (is_trunc(num) and is_div(num)):\n",
    "    num -= 1\n",
    "print(num)"
   ]
  },
  {
   "cell_type": "markdown",
   "metadata": {},
   "source": [
    "# Q5 1-20の全てで割り切れる最小の数"
   ]
  },
  {
   "cell_type": "code",
   "execution_count": 2,
   "metadata": {},
   "outputs": [
    {
     "name": "stdout",
     "output_type": "stream",
     "text": [
      "232792560\n"
     ]
    }
   ],
   "source": [
    "ans=(2**4)*(3**2)*5*7*11*13*17*19\n",
    "print(ans)"
   ]
  },
  {
   "cell_type": "markdown",
   "metadata": {},
   "source": [
    "# Q6 (Σk)^2-Σk^2 k=1 to 100"
   ]
  },
  {
   "cell_type": "code",
   "execution_count": 15,
   "metadata": {},
   "outputs": [
    {
     "name": "stdout",
     "output_type": "stream",
     "text": [
      "25164150\n"
     ]
    }
   ],
   "source": [
    "s1=0\n",
    "s2=0\n",
    "for n in range (1,101):\n",
    "    s1=s1+n**2\n",
    "    s2=s2+n\n",
    "ds=s2**2-s1\n",
    "print(ds)    "
   ]
  },
  {
   "cell_type": "markdown",
   "metadata": {},
   "source": [
    "# Q7 10001st prime number"
   ]
  },
  {
   "cell_type": "code",
   "execution_count": 12,
   "metadata": {},
   "outputs": [
    {
     "data": {
      "text/plain": [
       "104743"
      ]
     },
     "execution_count": 12,
     "metadata": {},
     "output_type": "execute_result"
    }
   ],
   "source": [
    "import numpy as np\n",
    "from numba import jit\n",
    "@jit('int64(int64)')\n",
    "def sosu(x):\n",
    "    #only for x>=7\n",
    "    j=(int(np.sqrt(x))+1)/2\n",
    "    for i in range(1,int(j)):\n",
    "        if x%(2*i+1)==0:\n",
    "            return 0\n",
    "        else:\n",
    "            i=i+1\n",
    "    return 1\n",
    "prime=[2,3,5]\n",
    "n=1\n",
    "while len(prime)!=10001:\n",
    "    if sosu(6*n+1):\n",
    "        prime=prime+[6*n+1]\n",
    "    if sosu(6*n+5):\n",
    "        prime=prime+[6*n+5]\n",
    "    n=n+1\n",
    "prime[-1]"
   ]
  },
  {
   "cell_type": "code",
   "execution_count": 14,
   "metadata": {},
   "outputs": [
    {
     "data": {
      "text/plain": [
       "104743"
      ]
     },
     "execution_count": 14,
     "metadata": {},
     "output_type": "execute_result"
    }
   ],
   "source": [
    "import sympy\n",
    "sympy.prime(10001)"
   ]
  },
  {
   "cell_type": "markdown",
   "metadata": {},
   "source": [
    "# Q8 隣接する13数の積の最大値"
   ]
  },
  {
   "cell_type": "code",
   "execution_count": 19,
   "metadata": {},
   "outputs": [
    {
     "data": {
      "text/plain": [
       "23514624000"
      ]
     },
     "execution_count": 19,
     "metadata": {},
     "output_type": "execute_result"
    }
   ],
   "source": [
    "from functools import reduce\n",
    "from operator import mul\n",
    "string=\"\"\"\n",
    "731671765313306249192251196744265747423553491949349698352031\n",
    "2774506326239578318016984801869478851843\n",
    "8586156078911294949545950173795833195285320880551112540698747158\n",
    "523863050715693290963295227443043557\n",
    "668966489504452445231617318564030987\n",
    "1112172238311362229893423380308135336276614282806444486645238749\n",
    "3035890729629049156044077239071381051585930796086670172427121883\n",
    "998797908792274921901699720888093776\n",
    "657273330010533678812202354218097512\n",
    "5454059475224352584907711670556013604839586446706324415722155397\n",
    "5369781797784617406495514929086256932197846862248283972241375657\n",
    "056057490261407972968652414535100474\n",
    "821663704844031998900088952434506585\n",
    "4122758866688116427171479924442928230863465674813919123162824586\n",
    "1786645835912456652947654568284891288314260769004224219022671055\n",
    "626321111109370544217506941658960408\n",
    "0719840385096245544436298123098787992724428490918884580156166097\n",
    "919133875499200524063689912560717606\n",
    "058861164671094050775410022569831552\n",
    "0005593572972571636269561882670428252483600823257530420752963450\n",
    "\"\"\"\n",
    "string = string.replace('\\n','')\n",
    "product = [reduce(mul,map(int, string[i:i+13]))\n",
    "           for i in range(len(string))]\n",
    "max(product)"
   ]
  },
  {
   "cell_type": "markdown",
   "metadata": {},
   "source": [
    "# Q9 a+b+c=1000となるピタゴラス数(a,b,c)の積を求める"
   ]
  },
  {
   "cell_type": "code",
   "execution_count": 2,
   "metadata": {},
   "outputs": [
    {
     "name": "stdout",
     "output_type": "stream",
     "text": [
      "200 375 425 \n",
      " 31875000\n"
     ]
    }
   ],
   "source": [
    "import numpy as np\n",
    "c=334\n",
    "d=0\n",
    "while d==0:\n",
    "    a=1\n",
    "    for n in range (1000-c):\n",
    "        \n",
    "        b=1000-a-c\n",
    "        if a**2+b**2==c**2:\n",
    "            d=1\n",
    "            break\n",
    "        else:\n",
    "            a=a+1\n",
    "    c=c+1\n",
    "c=c-1\n",
    "print(a,b,c,'\\n',a*b*c)\n",
    "\n"
   ]
  },
  {
   "cell_type": "code",
   "execution_count": 20,
   "metadata": {},
   "outputs": [
    {
     "name": "stdout",
     "output_type": "stream",
     "text": [
      "200 375 425 31875000\n"
     ]
    }
   ],
   "source": [
    "# a <= b < c \n",
    "# a <= 334\n",
    "# b <= 499\n",
    "def is_pitag(a,b,c):\n",
    "    if a**2 + b**2 - c**2 == 0:\n",
    "        return True\n",
    "    return False\n",
    "\n",
    "for a in range(1, 335):\n",
    "    for b in range(a, 500):\n",
    "        c = 1000 - a - b\n",
    "        if is_pitag(a,b,c):\n",
    "            print(a,b,c, a*b*c)\n"
   ]
  },
  {
   "cell_type": "markdown",
   "metadata": {},
   "source": [
    "# Q10 sum of all the primes below two million"
   ]
  },
  {
   "cell_type": "code",
   "execution_count": 3,
   "metadata": {},
   "outputs": [
    {
     "name": "stdout",
     "output_type": "stream",
     "text": [
      "142913828922\n"
     ]
    }
   ],
   "source": [
    "from numba import jit\n",
    "import numpy as np\n",
    "\n",
    "@jit('int64(int64)')\n",
    "def sosu(x):\n",
    "    #only for x>=7\n",
    "    j=(int(np.sqrt(x))+1)/2\n",
    "    for i in range(1,int(j)):\n",
    "        if x%(2*i+1)==0:\n",
    "            return 0\n",
    "        else:\n",
    "            i=i+1\n",
    "    return 1\n",
    "@jit\n",
    "def main():\n",
    "    sum=2+3+5\n",
    "    prime=7\n",
    "    n=1\n",
    "    while n<(2000000-5)/6:\n",
    "        prime=6*n+1\n",
    "        sum=sum+prime*sosu(prime)\n",
    "        prime=prime+4\n",
    "        sum=sum+prime*sosu(prime)\n",
    "        n=n+1\n",
    "    print(sum)\n",
    "main()"
   ]
  }
 ],
 "metadata": {
  "kernelspec": {
   "display_name": "Python 3",
   "language": "python",
   "name": "python3"
  },
  "language_info": {
   "codemirror_mode": {
    "name": "ipython",
    "version": 3
   },
   "file_extension": ".py",
   "mimetype": "text/x-python",
   "name": "python",
   "nbconvert_exporter": "python",
   "pygments_lexer": "ipython3",
   "version": "3.6.5"
  }
 },
 "nbformat": 4,
 "nbformat_minor": 2
}
