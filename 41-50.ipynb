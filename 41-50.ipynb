{
 "cells": [
  {
   "cell_type": "markdown",
   "metadata": {},
   "source": [
    "# Problem 41 「パンデジタル素数」 †\n",
    "n桁パンデジタルであるとは, 1からnまでの数を各桁に1つずつ持つこととする.\n",
    "\n",
    "例えば2143は4桁パンデジタル数であり, かつ素数である. n桁（この問題の定義では9桁以下）パンデジタルな素数の中で最大の数を答えよ."
   ]
  },
  {
   "cell_type": "code",
   "execution_count": 15,
   "metadata": {},
   "outputs": [
    {
     "data": {
      "text/plain": [
       "(7, 6, 5, 2, 4, 1, 3)"
      ]
     },
     "execution_count": 15,
     "metadata": {},
     "output_type": "execute_result"
    }
   ],
   "source": [
    "import itertools\n",
    "import sympy\n",
    "def list_to_num(li):\n",
    "    num=0\n",
    "    for n in range(len(li)):\n",
    "        num+=li[-n-1]*10**(n)\n",
    "    return num\n",
    "perms=[n for n in itertools.permutations(range(1,8),7)]\n",
    "n=1\n",
    "while n<=len(perms)-1:\n",
    "    if sympy.isprime(list_to_num(perms[-n]))==1:\n",
    "        break\n",
    "    else:\n",
    "        n+=1\n",
    "perms[-n]"
   ]
  },
  {
   "cell_type": "markdown",
   "metadata": {},
   "source": [
    "# Problem 42 「符号化三角数」 †\n",
    "三角数のn項は tn = ½n(n+1)で与えられる. 最初の10項は\n",
    "\n",
    "1, 3, 6, 10, 15, 21, 28, 36, 45, 55, ...\n",
    "である.\n",
    "\n",
    "単語中のアルファベットを数値に変換した後に和をとる. この和を「単語の値」と呼ぶことにする. 例えば SKY は 19 + 11 + 25 = 55 = t10である. 単語の値が三角数であるとき, その単語を三角語と呼ぶ.\n",
    "\n",
    "16Kのテキストファイル words.txt 中に約2000語の英単語が記されている. 三角語はいくつあるか?"
   ]
  },
  {
   "cell_type": "code",
   "execution_count": 24,
   "metadata": {},
   "outputs": [
    {
     "data": {
      "text/plain": [
       "162"
      ]
     },
     "execution_count": 24,
     "metadata": {},
     "output_type": "execute_result"
    }
   ],
   "source": [
    "import math\n",
    "readfile='42.txt'\n",
    "f=open(readfile,'r',encoding='utf-8')\n",
    "words=f.read().split(',')\n",
    "alpha=list(\"ABCDEFGHIJKLMNOPQRSTUVWXYZ\")\n",
    "def score(x):\n",
    "    score=0\n",
    "    for n in x:\n",
    "        if n in alpha:\n",
    "                score=score+alpha.index(n)+1\n",
    "    return score\n",
    "scores=[score(n) for n in words]\n",
    "end=math.floor(2*math.sqrt(max(scores)))\n",
    "tn=[n*(n+1)/2 for n in range(1,end+1)]\n",
    "sum([scores.count(n) for n in tn])"
   ]
  },
  {
   "cell_type": "markdown",
   "metadata": {},
   "source": [
    "# Problem 43 「部分文字列被整除性」 †\n",
    "数1406357289は0から9のパンデジタル数である (0から9が1度ずつ現れるので). この数は部分文字列が面白い性質を持っている.\n",
    "\n",
    "d1を上位1桁目, d2を上位2桁目の数とし, 以下順にdnを定義する. この記法を用いると次のことが分かる.\n",
    "\n",
    "d2d3d4=406 は 2 で割り切れる\n",
    "d3d4d5=063 は 3 で割り切れる\n",
    "d4d5d6=635 は 5 で割り切れる\n",
    "d5d6d7=357 は 7 で割り切れる\n",
    "d6d7d8=572 は 11 で割り切れる\n",
    "d7d8d9=728 は 13 で割り切れる\n",
    "d8d9d10=289 は 17 で割り切れる\n",
    "このような性質をもつ0から9のパンデジタル数の総和を求めよ."
   ]
  },
  {
   "cell_type": "markdown",
   "metadata": {},
   "source": [
    "# Problem 44 「五角数」 †\n",
    "五角数は Pn = n(3n-1)/2 で生成される. 最初の10項は\n",
    "\n",
    "1, 5, 12, 22, 35, 51, 70, 92, 117, 145, ...\n",
    "である.\n",
    "\n",
    "P4 + P7 = 22 + 70 = 92 = P8 である. しかし差 70 - 22 = 48 は五角数ではない.\n",
    "\n",
    "五角数のペア Pj と Pk について, 差と和が五角数になるものを考える. 差を D = |Pk - Pj| と書く. 差 D の最小値を求めよ."
   ]
  },
  {
   "cell_type": "code",
   "execution_count": 30,
   "metadata": {},
   "outputs": [
    {
     "data": {
      "text/plain": [
       "8401"
      ]
     },
     "execution_count": 30,
     "metadata": {},
     "output_type": "execute_result"
    }
   ],
   "source": [
    "'''\n",
    "pa-pb=pc\n",
    "a(3a-1)-b(3b-1)=c(3c-1)=1,5,12,22,...で探索\n",
    "a(3a-1)+b(3b-1)=d(3d-1)\n",
    "'''\n",
    "import itertools\n",
    "pn=[n*(3*n-1)/2 for n in range(100)]\n",
    "pp=list(itertools.product(pn,pn))\n",
    "len({n[0]-n[1] for n in pp})"
   ]
  },
  {
   "cell_type": "markdown",
   "metadata": {},
   "source": [
    "# Problem 45 「三角数, 五角数, 六角数」 †\n",
    "三角数, 五角数, 六角数は以下のように生成される.\n",
    "\n",
    "三角数\tTn=n(n+1)/2\t1, 3, 6, 10, 15, ...\n",
    "五角数\tPn=n(3n-1)/2\t1, 5, 12, 22, 35, ...\n",
    "六角数\tHn=n(2n-1)\t1, 6, 15, 28, 45, ...\n",
    "T285 = P165 = H143 = 40755であることが分かる.\n",
    "\n",
    "次の三角数かつ五角数かつ六角数な数を求めよ."
   ]
  },
  {
   "cell_type": "markdown",
   "metadata": {},
   "source": [
    "# Problem 46 「もうひとつのゴールドバッハの予想」 †\n",
    "Christian Goldbachは全ての奇合成数は平方数の2倍と素数の和で表せると予想した.\n",
    "\n",
    "9 = 7 + 2×12\n",
    "15 = 7 + 2×22\n",
    "21 = 3 + 2×32\n",
    "25 = 7 + 2×32\n",
    "27 = 19 + 2×22\n",
    "33 = 31 + 2×12\n",
    "\n",
    "後に, この予想は誤りであることが分かった.\n",
    "\n",
    "平方数の2倍と素数の和で表せない最小の奇合成数はいくつか?"
   ]
  },
  {
   "cell_type": "markdown",
   "metadata": {},
   "source": [
    "# Problem 47 「異なる素因数」 †\n",
    "それぞれ2つの異なる素因数を持つ連続する2つの数が最初に現れるのは:\n",
    "\n",
    "14 = 2 × 7\n",
    "15 = 3 × 5\n",
    "\n",
    "それぞれ3つの異なる素因数を持つ連続する3つの数が最初に現れるのは:\n",
    "\n",
    "644 = 22 × 7 × 23\n",
    "645 = 3 × 5 × 43\n",
    "646 = 2 × 17 × 19\n",
    "\n",
    "最初に現れるそれぞれ4つの異なる素因数を持つ連続する4つの数を求めよ. その最初の数はいくつか?"
   ]
  },
  {
   "cell_type": "markdown",
   "metadata": {},
   "source": [
    "# Problem 48 「自身のべき乗(self powers)」 †\n",
    "次の式は, 1^1 + 2^2 +3^3 + ... + 10^10 = 10405071317 である.\n",
    "\n",
    "では, 1^1 + 2^2 + 3^3 + ... + 1000^1000 の最後の10桁を求めよ."
   ]
  },
  {
   "cell_type": "code",
   "execution_count": 9,
   "metadata": {},
   "outputs": [
    {
     "data": {
      "text/plain": [
       "9110846700"
      ]
     },
     "execution_count": 9,
     "metadata": {},
     "output_type": "execute_result"
    }
   ],
   "source": [
    "def powpow(x):\n",
    "    powpow=1\n",
    "    for n in range(x):\n",
    "        if powpow<=10**10:\n",
    "            powpow*=x\n",
    "        else:\n",
    "            powpow%=10**10\n",
    "            powpow*=x\n",
    "    return powpow\n",
    "sumpow=sum([powpow(x) for x in range(1,1001)])\n",
    "sumpow%10**10"
   ]
  },
  {
   "cell_type": "markdown",
   "metadata": {},
   "source": [
    "# Problem 49 「素数数列」 †\n",
    "項差3330の等差数列1487, 4817, 8147は次の2つの変わった性質を持つ.\n",
    "\n",
    "(i)3つの項はそれぞれ素数である. \n",
    "(ii)各項は他の項の置換で表される. \n",
    "1, 2, 3桁の素数にはこのような性質を持った数列は存在しないが, 4桁の増加列にはもう1つ存在する.\n",
    "\n",
    "それではこの数列の3つの項を連結した12桁の数を求めよ."
   ]
  },
  {
   "cell_type": "markdown",
   "metadata": {},
   "source": [
    "# Problem 50 「連続する素数の和」 †\n",
    "素数41は6つの連続する素数の和として表せる:\n",
    "\n",
    "41 = 2 + 3 + 5 + 7 + 11 + 13.\n",
    "100未満の素数を連続する素数の和で表したときにこれが最長になる.\n",
    "\n",
    "同様に, 連続する素数の和で1000未満の素数を表したときに最長になるのは953で21項を持つ.\n",
    "\n",
    "100万未満の素数を連続する素数の和で表したときに最長になるのはどの素数か?"
   ]
  },
  {
   "cell_type": "code",
   "execution_count": 7,
   "metadata": {},
   "outputs": [
    {
     "data": {
      "text/plain": [
       "3674994"
      ]
     },
     "execution_count": 7,
     "metadata": {},
     "output_type": "execute_result"
    }
   ],
   "source": [
    "import sympy\n",
    "primes=[sympy.prime(n) for n in range(1,1000)]\n",
    "sum(primes)"
   ]
  },
  {
   "cell_type": "code",
   "execution_count": 23,
   "metadata": {},
   "outputs": [
    {
     "name": "stdout",
     "output_type": "stream",
     "text": [
      "2\n"
     ]
    },
    {
     "data": {
      "text/plain": [
       "[2, 5, 10, 17, 28, 41, 58, 77, 100, 129]"
      ]
     },
     "execution_count": 23,
     "metadata": {},
     "output_type": "execute_result"
    }
   ],
   "source": [
    "import math\n",
    "import itertools\n",
    "\n",
    "# 0以上整数x「未満」の素数をリストに格納して返す\n",
    "def primes(x):\n",
    "    if x < 2: return []\n",
    "\n",
    "    primes = [i for i in range(x)]\n",
    "    primes[1] = 0 # 1は素数ではない\n",
    "\n",
    "    # エラトステネスのふるい\n",
    "    for prime in primes:\n",
    "        if prime > math.sqrt(x): break\n",
    "        if prime == 0: continue\n",
    "        for non_prime in range(2 * prime, x, prime): primes[non_prime] = 0\n",
    "\n",
    "    return [prime for prime in primes if prime != 0]\n",
    "\n",
    "\n",
    "# 整数xが素数かどうかを判定する\n",
    "def is_prime(x):\n",
    "    if x < 2: return False # 2未満に素数はない\n",
    "    if x == 2 or x == 3 or x == 5: return True # 2,3,5は素数\n",
    "    if x % 2 == 0 or x % 3 == 0 or x % 5 == 0: return False # 2,3,5の倍数は合成数\n",
    "\n",
    "    # ためし割り: 疑似素数(2でも3でも5でも割り切れない数字)で次々に割っていく\n",
    "    prime = 7\n",
    "    step = 4\n",
    "    while prime <= math.sqrt(x):\n",
    "        if x % prime == 0: return False\n",
    "\n",
    "        prime += step\n",
    "        step = 6 - step\n",
    "\n",
    "    return True\n",
    "primes=primes(10000)\n",
    "accprimes=list(itertools.accumulate(primes))\n",
    "testlist=list(filter(lambda x:x<=1000000,accprimes))\n",
    "for n in range(len(testlist)):\n",
    "    if is_prime(testlist[-n])==True:\n",
    "        print(testlist[-n])\n",
    "        break\n",
    "testlist[:10]"
   ]
  }
 ],
 "metadata": {
  "kernelspec": {
   "display_name": "Python 3",
   "language": "python",
   "name": "python3"
  },
  "language_info": {
   "codemirror_mode": {
    "name": "ipython",
    "version": 3
   },
   "file_extension": ".py",
   "mimetype": "text/x-python",
   "name": "python",
   "nbconvert_exporter": "python",
   "pygments_lexer": "ipython3",
   "version": "3.5.2"
  }
 },
 "nbformat": 4,
 "nbformat_minor": 2
}
