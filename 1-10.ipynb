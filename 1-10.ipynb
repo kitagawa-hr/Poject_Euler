{
 "cells": [
  {
   "cell_type": "code",
   "execution_count": 27,
   "metadata": {},
   "outputs": [],
   "source": [
    "%load_ext Cython"
   ]
  },
  {
   "cell_type": "markdown",
   "metadata": {},
   "source": [
    "# Q1 1000以下の3,5の倍数の和を求めよ\n",
    "\n",
    "numpyのブールインデックス参照を用いた　https://hydrocul.github.io/wiki/numpy/ndarray-ref-boolean.html"
   ]
  },
  {
   "cell_type": "code",
   "execution_count": 1,
   "metadata": {},
   "outputs": [
    {
     "name": "stdout",
     "output_type": "stream",
     "text": [
      "233168\n"
     ]
    }
   ],
   "source": [
    "import numpy as np\n",
    "a1=np.arange(1,1000)\n",
    "b1=a1[(a1%3==0)|(a1%5==0)]\n",
    "print (np.sum(b1))"
   ]
  },
  {
   "cell_type": "markdown",
   "metadata": {},
   "source": [
    "# Q2 4000000以下で偶数のフィボナッチ行列の和を求めよ"
   ]
  },
  {
   "cell_type": "code",
   "execution_count": 10,
   "metadata": {},
   "outputs": [
    {
     "name": "stdout",
     "output_type": "stream",
     "text": [
      "9227463\n"
     ]
    }
   ],
   "source": [
    "from numba import jit\n",
    "@jit('int64(int64)')\n",
    "def fibo(x):\n",
    "    if x==1:\n",
    "        return 1\n",
    "    elif x==2:\n",
    "        return 2\n",
    "    else:\n",
    "        return fibo(x-1)+fibo(x-2)\n",
    "sum=0\n",
    "x=1\n",
    "while fibo(x)<=4000000:\n",
    "    sum=sum+fibo(x)\n",
    "    x+=1\n",
    "print (sum)"
   ]
  },
  {
   "cell_type": "markdown",
   "metadata": {},
   "source": [
    "# Q3 600851475143の最大の素因数を求める"
   ]
  },
  {
   "cell_type": "code",
   "execution_count": 11,
   "metadata": {},
   "outputs": [
    {
     "name": "stdout",
     "output_type": "stream",
     "text": [
      "6857\n"
     ]
    }
   ],
   "source": [
    "import numpy as np\n",
    "number=600851475143\n",
    "q=2\n",
    "p=2\n",
    "while q<=number:\n",
    "        if number%q==0:\n",
    "            number=number/q\n",
    "            if q>=p:\n",
    "                p=q                       \n",
    "            q=2\n",
    "        else:\n",
    "            q=q+1\n",
    "print(p)"
   ]
  },
  {
   "cell_type": "code",
   "execution_count": 12,
   "metadata": {},
   "outputs": [
    {
     "data": {
      "text/plain": [
       "6857"
      ]
     },
     "execution_count": 12,
     "metadata": {},
     "output_type": "execute_result"
    }
   ],
   "source": [
    "import sympy\n",
    "from operator import itemgetter\n",
    "number=600851475143\n",
    "divisor=sympy.factorint(number)\n",
    "max(divisor.items(),key=lambda x:x[0])[0]"
   ]
  },
  {
   "cell_type": "markdown",
   "metadata": {},
   "source": [
    "# Q4 回文数のうち、三桁*三桁で表せる最大の数"
   ]
  },
  {
   "cell_type": "code",
   "execution_count": 13,
   "metadata": {},
   "outputs": [
    {
     "name": "stdout",
     "output_type": "stream",
     "text": [
      "906609\n"
     ]
    }
   ],
   "source": [
    "def kaibun(x):\n",
    "    suji=str(x)\n",
    "    if suji==suji[::-1]:\n",
    "        return 1\n",
    "    else:\n",
    "        return 0\n",
    "    \n",
    "num=999999\n",
    "a=0\n",
    "while a==0:\n",
    "    if kaibun(num)==0:\n",
    "        num=num-1\n",
    "    else:\n",
    "        for n in range (100,999):\n",
    "            if num%n==0 and num/n>=100 and num/n<=999:\n",
    "                a=n\n",
    "                b=num\n",
    "                break\n",
    "            \n",
    "        num=num-1\n",
    "                \n",
    "        \n",
    "print(b)    "
   ]
  },
  {
   "cell_type": "markdown",
   "metadata": {},
   "source": [
    "# Q5 1-20の全てで割り切れる最小の数"
   ]
  },
  {
   "cell_type": "code",
   "execution_count": 14,
   "metadata": {},
   "outputs": [
    {
     "name": "stdout",
     "output_type": "stream",
     "text": [
      "232792560\n"
     ]
    }
   ],
   "source": [
    "ans=(2**4)*(3**2)*5*7*11*13*17*19\n",
    "print(ans)"
   ]
  },
  {
   "cell_type": "markdown",
   "metadata": {},
   "source": [
    "# Q6 (Σk)^2-Σk^2 k=1 to 100"
   ]
  },
  {
   "cell_type": "code",
   "execution_count": 15,
   "metadata": {},
   "outputs": [
    {
     "name": "stdout",
     "output_type": "stream",
     "text": [
      "25164150\n"
     ]
    }
   ],
   "source": [
    "s1=0\n",
    "s2=0\n",
    "for n in range (1,101):\n",
    "    s1=s1+n**2\n",
    "    s2=s2+n\n",
    "ds=s2**2-s1\n",
    "print(ds)    "
   ]
  },
  {
   "cell_type": "markdown",
   "metadata": {},
   "source": [
    "# Q7 10001st prime number"
   ]
  },
  {
   "cell_type": "code",
   "execution_count": 3,
   "metadata": {},
   "outputs": [
    {
     "name": "stdout",
     "output_type": "stream",
     "text": [
      "104743\n"
     ]
    }
   ],
   "source": [
    "import numpy as np\n",
    "from numba import jit\n",
    "@jit('int64(int64)')\n",
    "def sosu(x):\n",
    "    #only for x>=7\n",
    "    j=(int(np.sqrt(x))+1)/2\n",
    "    for i in range(1,int(j)):\n",
    "        if x%(2*i+1)==0:\n",
    "            return 0\n",
    "        else:\n",
    "            i=i+1\n",
    "    return 1\n",
    "prime=[2,3,5]\n",
    "n=1\n",
    "while len(prime)!=10001:\n",
    "    if sosu(6*n+1):\n",
    "        prime=prime+[6*n+1]\n",
    "    if sosu(6*n+5):\n",
    "        prime=prime+[6*n+5]\n",
    "    n=n+1\n",
    "print(prime[-1])\n"
   ]
  },
  {
   "cell_type": "code",
   "execution_count": 5,
   "metadata": {},
   "outputs": [
    {
     "data": {
      "text/plain": [
       "104743"
      ]
     },
     "execution_count": 5,
     "metadata": {},
     "output_type": "execute_result"
    }
   ],
   "source": [
    "import sympy\n",
    "sympy.prime(10001)"
   ]
  },
  {
   "cell_type": "markdown",
   "metadata": {},
   "source": [
    "# Q8 隣接する13数の積の最大値"
   ]
  },
  {
   "cell_type": "code",
   "execution_count": 18,
   "metadata": {},
   "outputs": [
    {
     "name": "stdout",
     "output_type": "stream",
     "text": [
      "23514624000\n"
     ]
    }
   ],
   "source": [
    "str=\"7316717653133062491922511967442657474235534919493496983520312774506326239578318016984801869478851843\\\n",
    "8586156078911294949545950173795833195285320880551112540698747158523863050715693290963295227443043557\\\n",
    "6689664895044524452316173185640309871112172238311362229893423380308135336276614282806444486645238749\\\n",
    "3035890729629049156044077239071381051585930796086670172427121883998797908792274921901699720888093776\\\n",
    "6572733300105336788122023542180975125454059475224352584907711670556013604839586446706324415722155397\\\n",
    "5369781797784617406495514929086256932197846862248283972241375657056057490261407972968652414535100474\\\n",
    "8216637048440319989000889524345065854122758866688116427171479924442928230863465674813919123162824586\\\n",
    "1786645835912456652947654568284891288314260769004224219022671055626321111109370544217506941658960408\\\n",
    "0719840385096245544436298123098787992724428490918884580156166097919133875499200524063689912560717606\\\n",
    "0588611646710940507754100225698315520005593572972571636269561882670428252483600823257530420752963450\"\n",
    "lis=list(str)\n",
    "max=0\n",
    "pro=0\n",
    "for n in range (1000-13):\n",
    "    pro=int(lis[n])\n",
    "    for k in range(1,13):\n",
    "        pro=pro*int(lis[n+k])\n",
    "    if pro>=max:\n",
    "        max=pro\n",
    "print(max)        "
   ]
  },
  {
   "cell_type": "markdown",
   "metadata": {},
   "source": [
    "# Q9 a+b+c=1000となるピタゴラス数(a,b,c)の積を求める"
   ]
  },
  {
   "cell_type": "code",
   "execution_count": 19,
   "metadata": {},
   "outputs": [
    {
     "name": "stdout",
     "output_type": "stream",
     "text": [
      "200 375 425 31875000\n"
     ]
    }
   ],
   "source": [
    "import numpy as np\n",
    "c=334\n",
    "d=0\n",
    "while d==0:\n",
    "    a=1\n",
    "    for n in range (1000-c):\n",
    "        \n",
    "        b=1000-a-c\n",
    "        if a**2+b**2==c**2:\n",
    "            d=1\n",
    "            break\n",
    "        else:\n",
    "            a=a+1\n",
    "    c=c+1\n",
    "c=c-1\n",
    "print(a,b,c,a*b*c)\n",
    "\n"
   ]
  },
  {
   "cell_type": "markdown",
   "metadata": {},
   "source": [
    "# Q10 sum of all the primes below two million"
   ]
  },
  {
   "cell_type": "code",
   "execution_count": 2,
   "metadata": {},
   "outputs": [
    {
     "name": "stdout",
     "output_type": "stream",
     "text": [
      "142913828922\n"
     ]
    }
   ],
   "source": [
    "from numba import jit\n",
    "import numpy as np\n",
    "\n",
    "@jit('int64(int64)')\n",
    "def sosu(x):\n",
    "    #only for x>=7\n",
    "    j=(int(np.sqrt(x))+1)/2\n",
    "    for i in range(1,int(j)):\n",
    "        if x%(2*i+1)==0:\n",
    "            return 0\n",
    "        else:\n",
    "            i=i+1\n",
    "    return 1\n",
    "@jit\n",
    "def main():\n",
    "    sum=2+3+5\n",
    "    prime=7\n",
    "    n=1\n",
    "    while n<(2000000-5)/6:\n",
    "        prime=6*n+1\n",
    "        sum=sum+prime*sosu(prime)\n",
    "        prime=prime+4\n",
    "        sum=sum+prime*sosu(prime)\n",
    "        n=n+1\n",
    "    print(sum)\n",
    "main()"
   ]
  }
 ],
 "metadata": {
  "kernelspec": {
   "display_name": "Python 3",
   "language": "python",
   "name": "python3"
  },
  "language_info": {
   "codemirror_mode": {
    "name": "ipython",
    "version": 3
   },
   "file_extension": ".py",
   "mimetype": "text/x-python",
   "name": "python",
   "nbconvert_exporter": "python",
   "pygments_lexer": "ipython3",
   "version": "3.5.2"
  }
 },
 "nbformat": 4,
 "nbformat_minor": 2
}
