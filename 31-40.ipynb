{
 "cells": [
  {
   "cell_type": "markdown",
   "metadata": {},
   "source": [
    "# Problem 31 「硬貨の和」 †\n",
    "イギリスでは硬貨はポンド£とペンスpがあり，一般的に流通している硬貨は以下の8種類である.\n",
    "\n",
    "1p, 2p, 5p, 10p, 20p, 50p, £1 (100p) and £2 (200p).\n",
    "\n",
    "以下の方法で£2を作ることが可能である．\n",
    "\n",
    "1×£1 + 1×50p + 2×20p + 1×5p + 1×2p + 3×1p\n",
    "\n",
    "これらの硬貨を使って£2を作る方法は何通りあるか?"
   ]
  },
  {
   "cell_type": "code",
   "execution_count": 3,
   "metadata": {},
   "outputs": [
    {
     "data": {
      "text/plain": [
       "Counter({1: 0, 2: 0, 5: 0, 10: 0, 20: 0, 50: 0, 100: 0, 200: 0})"
      ]
     },
     "execution_count": 3,
     "metadata": {},
     "output_type": "execute_result"
    }
   ],
   "source": [
    "import itertools\n",
    "from collections import Counter\n",
    "coins=[1,2,5,10,20,50,100,200]\n",
    "c=Counter()\n",
    "for n in coins:\n",
    "    c[n]=0\n",
    "def patterns(x):\n",
    "    "
   ]
  },
  {
   "cell_type": "markdown",
   "metadata": {},
   "source": [
    "# Problem 32 「パンデジタル積」 †\n",
    "すべての桁に 1 から n が一度だけ使われている数をn桁の数がパンデジタル (pandigital) であるということにしよう: 例えば5桁の数 15234 は1から5のパンデジタルである.\n",
    "\n",
    "7254 は面白い性質を持っている. 39 × 186 = 7254 と書け, 掛けられる数, 掛ける数, 積が1から9のパンデジタルとなる.\n",
    "\n",
    "掛けられる数/掛ける数/積が1から9のパンデジタルとなるような積の総和を求めよ.\n",
    "\n",
    "HINT: いくつかの積は, 1通り以上の掛けられる数/掛ける数/積の組み合わせを持つが1回だけ数え上げよ."
   ]
  },
  {
   "cell_type": "code",
   "execution_count": null,
   "metadata": {},
   "outputs": [],
   "source": [
    "'''\n",
    "2桁*3桁のみ\n",
    "'''\n",
    "\n"
   ]
  },
  {
   "cell_type": "markdown",
   "metadata": {},
   "source": [
    "# Problem 33 「桁消去分数」 †\n",
    "49/98は面白い分数である.「分子と分母からそれぞれ9を取り除くと, 49/98 = 4/8 となり, 簡単な形にすることができる」と経験の浅い数学者が誤って思い込んでしまうかもしれないからである. (方法は正しくないが，49/98の場合にはたまたま正しい約分になってしまう．)\n",
    "\n",
    "我々は 30/50 = 3/5 のようなタイプは自明な例だとする.\n",
    "\n",
    "このような分数のうち, 1より小さく分子・分母がともに2桁の数になるような自明でないものは, 4個ある.\n",
    "\n",
    "その4個の分数の積が約分された形で与えられたとき, 分母の値を答えよ."
   ]
  },
  {
   "cell_type": "code",
   "execution_count": null,
   "metadata": {},
   "outputs": [],
   "source": [
    "'''\n",
    "a/b a<b\n",
    "\n",
    "'''"
   ]
  },
  {
   "cell_type": "markdown",
   "metadata": {},
   "source": [
    "# Problem 34 「桁の階乗」 †\n",
    "145は面白い数である. 1! + 4! + 5! = 1 + 24 + 120 = 145となる.\n",
    "\n",
    "各桁の数の階乗の和が自分自身と一致するような数の和を求めよ.\n",
    "\n",
    "注: 1! = 1 と 2! = 2 は総和に含めてはならない."
   ]
  },
  {
   "cell_type": "code",
   "execution_count": 39,
   "metadata": {},
   "outputs": [
    {
     "name": "stdout",
     "output_type": "stream",
     "text": [
      "40730\n"
     ]
    }
   ],
   "source": [
    "'''\n",
    "9!*9まで調べればよい\n",
    "'''\n",
    "from numba import jit\n",
    "import math\n",
    "@jit\n",
    "def facteq(x):\n",
    "    fac=str(x)\n",
    "    facsum=0\n",
    "    for n in fac:\n",
    "        facsum+=math.factorial(int(n))\n",
    "    if x==facsum:\n",
    "        return 1\n",
    "    else:\n",
    "        return 0\n",
    "@jit\n",
    "def main():\n",
    "    eqlis=[]\n",
    "    test_range=9*math.factorial(9)\n",
    "    for n in range(1,test_range):\n",
    "        if facteq(n)==1:\n",
    "            eqlis.append(n)\n",
    "    print(sum(eqlis)-3)\n",
    "main()"
   ]
  },
  {
   "cell_type": "markdown",
   "metadata": {},
   "source": [
    "# Problem 35 「巡回素数」 †\n",
    "197は巡回素数と呼ばれる. 桁を回転させたときに得られる数 197, 971, 719 が全て素数だからである.\n",
    "\n",
    "100未満には巡回素数が13個ある: 2, 3, 5, 7, 11, 13, 17, 31, 37, 71, 73, 79, および97である.\n",
    "\n",
    "100万未満の巡回素数はいくつあるか?"
   ]
  },
  {
   "cell_type": "code",
   "execution_count": 63,
   "metadata": {},
   "outputs": [
    {
     "data": {
      "text/plain": [
       "[113,\n",
       " 131,\n",
       " 137,\n",
       " 139,\n",
       " 173,\n",
       " 179,\n",
       " 191,\n",
       " 193,\n",
       " 197,\n",
       " 199,\n",
       " 311,\n",
       " 313,\n",
       " 317,\n",
       " 331,\n",
       " 337,\n",
       " 373,\n",
       " 379,\n",
       " 397,\n",
       " 719,\n",
       " 733,\n",
       " 739,\n",
       " 773,\n",
       " 797,\n",
       " 911,\n",
       " 919,\n",
       " 937,\n",
       " 971,\n",
       " 977,\n",
       " 991,\n",
       " 997]"
      ]
     },
     "execution_count": 63,
     "metadata": {},
     "output_type": "execute_result"
    }
   ],
   "source": [
    "'''\n",
    "二桁以上のとき\n",
    "0,2,4,5,6,8を含まない\n",
    "1,3,7,9の組み合わせ\n",
    "4**6=4096通り\n",
    "'''\n",
    "import itertools \n",
    "import sympy\n",
    "num=[1,3,7,9]\n",
    "numlis=list(itertools.product(num,num,num))\n",
    "def lis_tonum(lis):\n",
    "    num=0\n",
    "    for n in range(len(lis)):\n",
    "        num+=lis[n]*10**(len(lis)-n-1)\n",
    "    return num\n",
    "primes=[lis_tonum(n) for n in numlis if sympy.isprime(lis_tonum(n))==1]\n",
    "primes"
   ]
  },
  {
   "cell_type": "markdown",
   "metadata": {},
   "source": [
    "# Problem 36 「二種類の基数による回文数」 †\n",
    "585 = 10010010012 (2進) は10進でも2進でも回文数である.\n",
    "\n",
    "100万未満で10進でも2進でも回文数になるような数の総和を求めよ.\n",
    "\n",
    "(注: 先頭に0を含めて回文にすることは許されない.)"
   ]
  },
  {
   "cell_type": "code",
   "execution_count": null,
   "metadata": {},
   "outputs": [],
   "source": []
  },
  {
   "cell_type": "markdown",
   "metadata": {},
   "source": [
    "# Problem 37 「切り詰め可能素数」 †\n",
    "3797は面白い性質を持っている. まずそれ自身が素数であり, 左から右に桁を除いたときに全て素数になっている (3797, 797, 97, 7). 同様に右から左に桁を除いたときも全て素数である (3797, 379, 37, 3).\n",
    "\n",
    "右から切り詰めても左から切り詰めても素数になるような素数は11個しかない. 総和を求めよ.\n",
    "\n",
    "注: 2, 3, 5, 7を切り詰め可能な素数とは考えない."
   ]
  },
  {
   "cell_type": "code",
   "execution_count": null,
   "metadata": {},
   "outputs": [],
   "source": []
  },
  {
   "cell_type": "markdown",
   "metadata": {},
   "source": [
    "# 38 \n",
    "192 に 1, 2, 3 を掛けてみよう.\n",
    "\n",
    "192 × 1 = 192\n",
    "192 × 2 = 384\n",
    "192 × 3 = 576\n",
    "\n",
    "積を連結することで1から9の パンデジタル数 192384576 が得られる. 192384576 を 192 と (1,2,3) の連結積と呼ぶ.\n",
    "\n",
    "同じようにして, 9 を 1,2,3,4,5 と掛け連結することでパンデジタル数 918273645 が得られる. これは 9 と (1,2,3,4,5) との連結積である.\n",
    "\n",
    "整数と (1,2,...,n) (n > 1) との連結積として得られる9桁のパンデジタル数の中で最大のものはいくつか?"
   ]
  },
  {
   "cell_type": "code",
   "execution_count": 1,
   "metadata": {},
   "outputs": [
    {
     "name": "stdout",
     "output_type": "stream",
     "text": [
      "['9', '3', '2', '7', '1', '8', '6', '5', '4']\n"
     ]
    }
   ],
   "source": [
    "def uniq(li):\n",
    "    li_uniq = []\n",
    "    for x in li:\n",
    "        if x not in li_uniq:\n",
    "            li_uniq.append(x)\n",
    "    return li_uniq\n",
    "\n",
    "def ans(x):\n",
    "    while x>9182:\n",
    "       \n",
    "        list1=list(str(x))\n",
    "        list2=list(str(2*x))\n",
    "        if \"0\" in list1 or \"0\" in list2:\n",
    "            x=x-1\n",
    "        elif len(uniq(list1))==4 and len(uniq(list2))==5:\n",
    "            for y in list1:\n",
    "                if y in list2:\n",
    "                    list1[:]=[]\n",
    "                    list2[:]=[]\n",
    "                    break\n",
    "                else:\n",
    "                    continue\n",
    "            if len(list1)>0:\n",
    "                return list1[0:4]+list2[0:5]\n",
    "            else:\n",
    "                x=x-1\n",
    "        else:\n",
    "            x=x-1\n",
    "print (ans(9876))"
   ]
  },
  {
   "cell_type": "markdown",
   "metadata": {},
   "source": [
    "# 39 「整数の直角三角形」 \n",
    "辺の長さが {a,b,c} と整数の3つ組である直角三角形を考え, その周囲の長さを p とする. p = 120のときには3つの解が存在する:\n",
    "\n",
    "{20,48,52}, {24,45,51}, {30,40,50}\n",
    "\n",
    "p ≤ 1000 のとき解の数が最大になる p はいくつか?"
   ]
  },
  {
   "cell_type": "code",
   "execution_count": 11,
   "metadata": {},
   "outputs": [
    {
     "data": {
      "text/plain": [
       "[[20.0, 48.0, 52.0]]"
      ]
     },
     "execution_count": 11,
     "metadata": {},
     "output_type": "execute_result"
    }
   ],
   "source": [
    "'''\n",
    "m>n\n",
    "a=m^2-n^2\n",
    "b=2mn\n",
    "c=m^2+n^2\n",
    "p/2=m(m+n)\n",
    "\n",
    "'''\n",
    "import math\n",
    "def pitag_eq(x,y):\n",
    "    x.sort()\n",
    "    y.sort()\n",
    "    if x[0]*y[1]==x[1]*y[0]:\n",
    "        return 1\n",
    "    else:\n",
    "        return 0\n",
    "def pitag_enum(p):\n",
    "    if p%2!=0:\n",
    "        return 0\n",
    "    else:\n",
    "        p/=2\n",
    "        pitag=[]\n",
    "        for n in range(2,int(p)):\n",
    "            if p%n==0:\n",
    "                x=n\n",
    "                y=p/n-x\n",
    "                if x>y and y>0:\n",
    "                    pitag.append([x**2-y**2,2*x*y,x**2+y**2]) \n",
    "        return pitag\n",
    "pitag_enum(120)\n"
   ]
  },
  {
   "cell_type": "markdown",
   "metadata": {},
   "source": [
    "# 40 「チャンパーノウン定数」 \n",
    "正の整数を順に連結して得られる以下の10進の無理数を考える:\n",
    "\n",
    "0.123456789101112131415161718192021...\n",
    "小数第12位は1である.\n",
    "\n",
    "dnで小数第n位の数を表す. d1 × d10 × d100 × d1000 × d10000 × d100000 × d1000000 を求めよ."
   ]
  },
  {
   "cell_type": "code",
   "execution_count": 21,
   "metadata": {},
   "outputs": [
    {
     "name": "stdout",
     "output_type": "stream",
     "text": [
      "1\n",
      "5\n",
      "3\n",
      "7\n",
      "2\n",
      "210\n"
     ]
    }
   ],
   "source": [
    "import itertools\n",
    "def d(x):\n",
    "    key=list(itertools.accumulate([9,180,2700,36000,450000,5400000]))\n",
    "    if x<=key[0]:\n",
    "        return x\n",
    "        \n",
    "    for n in range(1,5):\n",
    "        if x<=key[n]:\n",
    "            r=(x-key[n-1])%(n+1)\n",
    "            q=(x-key[n-1]-r)/(n+1)\n",
    "            if r==0:\n",
    "                strr=str(int(10**n+q-1))\n",
    "                return strr[-1]\n",
    "            else:\n",
    "                strr=str(int(10**n+q))\n",
    "                return strr[r-1]\n",
    "    return \"too big\"\n",
    "ans=1\n",
    "for n in range(1,6):\n",
    "    print(d(10**n))\n",
    "    ans=ans*int(d(10**n))\n",
    "print (ans) "
   ]
  },
  {
   "cell_type": "code",
   "execution_count": 2,
   "metadata": {},
   "outputs": [
    {
     "data": {
      "text/plain": [
       "120"
      ]
     },
     "execution_count": 2,
     "metadata": {},
     "output_type": "execute_result"
    }
   ],
   "source": [
    "#listの積を求める手法\n",
    "import functools\n",
    "import operator\n",
    "#functool.reduce(function,iterable)\n",
    "#reduce(lambda x, y: x+y, [1, 2, 3, 4, 5]) => ((((1+2)+3)+4)+5)\n",
    "#operator.mul(x,y)=>x*y =lambda x,y:x*y\n",
    "result = functools.reduce(operator.mul,[n for n in range(1,6)] )\n",
    "result"
   ]
  }
 ],
 "metadata": {
  "kernelspec": {
   "display_name": "Python 3",
   "language": "python",
   "name": "python3"
  },
  "language_info": {
   "codemirror_mode": {
    "name": "ipython",
    "version": 3
   },
   "file_extension": ".py",
   "mimetype": "text/x-python",
   "name": "python",
   "nbconvert_exporter": "python",
   "pygments_lexer": "ipython3",
   "version": "3.5.2"
  }
 },
 "nbformat": 4,
 "nbformat_minor": 2
}
