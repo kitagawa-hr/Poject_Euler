{
 "cells": [
  {
   "cell_type": "code",
   "execution_count": 136,
   "metadata": {},
   "outputs": [],
   "source": [
    "%load_ext Cython"
   ]
  },
  {
   "cell_type": "markdown",
   "metadata": {},
   "source": [
    "# Problem 31 「硬貨の和」 †\n",
    "イギリスでは硬貨はポンド£とペンスpがあり，一般的に流通している硬貨は以下の8種類である.\n",
    "\n",
    "1p, 2p, 5p, 10p, 20p, 50p, £1 (100p) and £2 (200p).\n",
    "\n",
    "以下の方法で£2を作ることが可能である．\n",
    "\n",
    "1×£1 + 1×50p + 2×20p + 1×5p + 1×2p + 3×1p\n",
    "\n",
    "これらの硬貨を使って£2を作る方法は何通りあるか?"
   ]
  },
  {
   "cell_type": "code",
   "execution_count": 15,
   "metadata": {
    "scrolled": true
   },
   "outputs": [
    {
     "name": "stdout",
     "output_type": "stream",
     "text": [
      "64000000\n"
     ]
    }
   ],
   "source": [
    "import itertools\n",
    "from collections import Counter\n",
    "coins=[1,2,5,10,20,50,100,200]\n",
    "for n in range(8):\n",
    "    for  m in range(200//coins[n]): # number of coins are under m\n",
    "        \n",
    "\n"
   ]
  },
  {
   "cell_type": "markdown",
   "metadata": {},
   "source": [
    "200*1 , 100+100 , 100+50*2,100+..."
   ]
  },
  {
   "cell_type": "code",
   "execution_count": 4,
   "metadata": {},
   "outputs": [
    {
     "data": {
      "text/plain": [
       "[{1: 0}, {2: 0}, {5: 0}, {10: 0}, {20: 0}, {50: 0}, {100: 0}]"
      ]
     },
     "execution_count": 4,
     "metadata": {},
     "output_type": "execute_result"
    }
   ],
   "source": [
    "[{1:0},{2:0},{5:0},{10:0},{20:0},{50:0},{100:0}]"
   ]
  },
  {
   "cell_type": "markdown",
   "metadata": {},
   "source": [
    "# Problem 32 「パンデジタル積」 †\n",
    "すべての桁に 1 から n が一度だけ使われている数をn桁の数がパンデジタル (pandigital) であるということにしよう: 例えば5桁の数 15234 は1から5のパンデジタルである.\n",
    "\n",
    "7254 は面白い性質を持っている. 39 × 186 = 7254 と書け, 掛けられる数, 掛ける数, 積が1から9のパンデジタルとなる.\n",
    "\n",
    "掛けられる数/掛ける数/積が1から9のパンデジタルとなるような積の総和を求めよ.\n",
    "\n",
    "HINT: いくつかの積は, 1通り以上の掛けられる数/掛ける数/積の組み合わせを持つが1回だけ数え上げよ."
   ]
  },
  {
   "cell_type": "code",
   "execution_count": 88,
   "metadata": {},
   "outputs": [
    {
     "data": {
      "text/plain": [
       "45228"
      ]
     },
     "execution_count": 88,
     "metadata": {},
     "output_type": "execute_result"
    }
   ],
   "source": [
    "'''\n",
    "1桁 *4桁=4桁\n",
    "2桁*3桁=4桁\n",
    "'''\n",
    "import itertools\n",
    "nummber=lambda nums:sum([num*10**(len(nums)-index-1) for index, num in enumerate(nums)]) #list -> num\n",
    "test=lambda y: all([x in y for x in [str(z) for z in range(1,10)]]) #  1-9が全て含まれているか判定\n",
    "numlis=[1,2,3,4,5,6,7,8,9]\n",
    "\n",
    "b1=list(itertools.permutations(numlis,4)) #[(1,2,3,4)...]\n",
    "a1_num=numlis\n",
    "b1_num=[nummber(x) for x in b1]#[1234,1235,...]\n",
    "ab1=list(itertools.product(a1_num,b1_num))  #[(1,1234),...]\n",
    "ab1_product=[str(x[0])+str(x[1])+str(x[0]*x[1]) for x in ab1]\n",
    "ans_list1=[int(x[-4:]) for x in ab1_product if test(x) and len(x)==9]\n",
    "\n",
    "a2=list(itertools.permutations(numlis,2)) #[(1,2),(1,3)...]\n",
    "b2=list(itertools.permutations(numlis,3)) #[(1,2,3)...]\n",
    "a2_num=[nummber(x) for x in a2] #[12,13,...]\n",
    "b2_num=[nummber(x) for x in b2]#[123,124,...]\n",
    "ab2=list(itertools.product(a2_num,b2_num))  #[(12,123),...]\n",
    "ab2_product=[str(x[0])+str(x[1])+str(x[0]*x[1]) for x in ab2 ]\n",
    "ans_list2=[int(x[-4:]) for x in ab_product if test(x) and len(x) == 9]\n",
    "sum(set(ans_list1))+sum(set(ans_list2)) #重複を削除"
   ]
  },
  {
   "cell_type": "code",
   "execution_count": 89,
   "metadata": {
    "scrolled": true
   },
   "outputs": [
    {
     "name": "stdout",
     "output_type": "stream",
     "text": [
      "45228\n"
     ]
    }
   ],
   "source": [
    "p = set()\n",
    "for a in range(1, 100):\n",
    "    for b in range(1, 9999 // a):\n",
    "        if ''.join(sorted(\"%d%d%d\" % (a, b, a*b))) == '123456789':\n",
    "            p.add(a * b)\n",
    "print(sum(p))"
   ]
  },
  {
   "cell_type": "code",
   "execution_count": 90,
   "metadata": {},
   "outputs": [
    {
     "name": "stdout",
     "output_type": "stream",
     "text": [
      "45228\n"
     ]
    }
   ],
   "source": [
    "print(sum({x*y for x in range(1,50) for y in range(100,2000) if ''.join(sorted(str(x)+str(y)+str(x*y))) == '123456789'}))"
   ]
  },
  {
   "cell_type": "markdown",
   "metadata": {},
   "source": [
    "# Problem 33 「桁消去分数」 †\n",
    "49/98は面白い分数である.「分子と分母からそれぞれ9を取り除くと, 49/98 = 4/8 となり, 簡単な形にすることができる」と経験の浅い数学者が誤って思い込んでしまうかもしれないからである. (方法は正しくないが，49/98の場合にはたまたま正しい約分になってしまう．)\n",
    "\n",
    "我々は 30/50 = 3/5 のようなタイプは自明な例だとする.\n",
    "\n",
    "このような分数のうち, 1より小さく分子・分母がともに2桁の数になるような自明でないものは, 4個ある.\n",
    "\n",
    "その4個の分数の積が約分された形で与えられたとき, 分母の値を答えよ."
   ]
  },
  {
   "cell_type": "code",
   "execution_count": 124,
   "metadata": {},
   "outputs": [
    {
     "data": {
      "text/plain": [
       "(1, 100)"
      ]
     },
     "execution_count": 124,
     "metadata": {},
     "output_type": "execute_result"
    }
   ],
   "source": [
    "'''\n",
    "a/b as a<b\n",
    "a/b=c/d\n",
    "a*d=b*c\n",
    "'''\n",
    "from functools import reduce\n",
    "import math\n",
    "\n",
    "def reduction(p, q):\n",
    "    common = math.gcd(p, q)\n",
    "    return (p // common, q // common)\n",
    "\n",
    "ans=[]\n",
    "num=[str(y) for y in range(1,10)]\n",
    "b_list=[x for x in range(10,100) if x%10!=0]\n",
    "for b in b_list:\n",
    "    for a in [x for x in range(10,b) if x%10!=0]:\n",
    "        common=[x for x in num if (x in str(a) and x in str(b))]\n",
    "        if len(common)==1:\n",
    "            c=str(a).replace(common[0],'')\n",
    "            d=str(b).replace(common[0],'')\n",
    "            if c=='' or d=='':\n",
    "                continue\n",
    "            elif a*int(d)==b*int(c):\n",
    "                ans.append([a,b])\n",
    "child=reduce(lambda x,y:x*y, [x[0] for x in ans])\n",
    "mother=reduce(lambda x,y:x*y, [x[1] for x in ans])\n",
    "reduction(child,mother)"
   ]
  },
  {
   "cell_type": "markdown",
   "metadata": {},
   "source": [
    "# Problem 34 「桁の階乗」 †\n",
    "145は面白い数である. 1! + 4! + 5! = 1 + 24 + 120 = 145となる.\n",
    "\n",
    "各桁の数の階乗の和が自分自身と一致するような数の和を求めよ.\n",
    "\n",
    "注: 1! = 1 と 2! = 2 は総和に含めてはならない."
   ]
  },
  {
   "cell_type": "code",
   "execution_count": 39,
   "metadata": {},
   "outputs": [
    {
     "name": "stdout",
     "output_type": "stream",
     "text": [
      "40730\n"
     ]
    }
   ],
   "source": [
    "'''\n",
    "9!*9まで調べればよい\n",
    "'''\n",
    "from numba import jit\n",
    "import math\n",
    "@jit\n",
    "def facteq(x):\n",
    "    fac=str(x)\n",
    "    facsum=0\n",
    "    for n in fac:\n",
    "        facsum+=math.factorial(int(n))\n",
    "    if x==facsum:\n",
    "        return 1\n",
    "    else:\n",
    "        return 0\n",
    "@jit\n",
    "def main():\n",
    "    eqlis=[]\n",
    "    test_range=9*math.factorial(9)\n",
    "    for n in range(1,test_range):\n",
    "        if facteq(n)==1:\n",
    "            eqlis.append(n)\n",
    "    print(sum(eqlis)-3)\n",
    "main()"
   ]
  },
  {
   "cell_type": "markdown",
   "metadata": {},
   "source": [
    "# Problem 35 「巡回素数」 †\n",
    "197は巡回素数と呼ばれる. 桁を回転させたときに得られる数 197, 971, 719 が全て素数だからである.\n",
    "\n",
    "100未満には巡回素数が13個ある: 2, 3, 5, 7, 11, 13, 17, 31, 37, 71, 73, 79, および97である.\n",
    "\n",
    "100万未満の巡回素数はいくつあるか?"
   ]
  },
  {
   "cell_type": "code",
   "execution_count": 25,
   "metadata": {},
   "outputs": [
    {
     "name": "stdout",
     "output_type": "stream",
     "text": [
      "55 [2, 3, 5, 7, 11, 13, 17, 31, 37, 71, 73, 79, 97, 113, 131, 197, 199, 311, 337, 373, 719, 733, 919, 971, 991, 1193, 1931, 3119, 3779, 7793, 7937, 9311, 9377, 11939, 19391, 19937, 37199, 39119, 71993, 91193, 93719, 93911, 99371, 193939, 199933, 319993, 331999, 391939, 393919, 919393, 933199, 939193, 939391, 993319, 999331]\n"
     ]
    }
   ],
   "source": [
    "'''\n",
    "二桁以上のとき\n",
    "0,2,4,5,6,8を含まない\n",
    "1,3,7,9の組み合わせ\n",
    "4**6=4096通り\n",
    "'''\n",
    "import itertools \n",
    "import sympy\n",
    "list_to_num = lambda x : int(''.join([str(y) for y in x]))\n",
    "def circular(x):\n",
    "    \"\"\"\n",
    "    >>>345\n",
    "    [453,534]\n",
    "    300+40+5\n",
    "    >>>12335\n",
    "    [23451,34512,45123,51234]\n",
    "    \"\"\"\n",
    "    y=str(x)\n",
    "    length=len(y)\n",
    "    return [y[-n:]+y[:length-n] for n in range(1,length)]\n",
    "\n",
    "num=[1,3,7,9]\n",
    "ans=[2,3,5,7]\n",
    "for dig in range(2,7):\n",
    "    numlis=list(itertools.product(num,repeat=dig))\n",
    "    primes=[list_to_num(n) for n in numlis if sympy.isprime(list_to_num(n))] #n-digits primes\n",
    "    for x in primes:\n",
    "        li=circular(x) # ex. [113,131,311,...] for 113\n",
    "        if all([sympy.isprime(z) for z in li]):\n",
    "            ans.append(x)\n",
    "print(len(ans),ans)"
   ]
  },
  {
   "cell_type": "markdown",
   "metadata": {},
   "source": [
    "# Problem 36 「二種類の基数による回文数」 †\n",
    "585 = 10010010012 (2進) は10進でも2進でも回文数である.\n",
    "\n",
    "100万未満で10進でも2進でも回文数になるような数の総和を求めよ.\n",
    "\n",
    "(注: 先頭に0を含めて回文にすることは許されない.)"
   ]
  },
  {
   "cell_type": "code",
   "execution_count": 57,
   "metadata": {},
   "outputs": [
    {
     "name": "stdout",
     "output_type": "stream",
     "text": [
      "872187 [1, 3, 5, 7, 9, 33, 99, 313, 585, 717, 7447, 9009, 15351, 32223, 39993, 53235, 53835, 73737, 585585]\n"
     ]
    }
   ],
   "source": [
    "\n",
    "ans=[]\n",
    "for n in range(1,10**6)[::2]:\n",
    "    if str(n)==str(n)[::-1]:\n",
    "        y = bin(n)[2::]\n",
    "        if y==y[::-1]:\n",
    "            ans.append(n)\n",
    "print(sum(ans),ans)"
   ]
  },
  {
   "cell_type": "markdown",
   "metadata": {},
   "source": [
    "# Problem 37 「切り詰め可能素数」 †\n",
    "3797は面白い性質を持っている. まずそれ自身が素数であり, 左から右に桁を除いたときに全て素数になっている (3797, 797, 97, 7). 同様に右から左に桁を除いたときも全て素数である (3797, 379, 37, 3).\n",
    "\n",
    "右から切り詰めても左から切り詰めても素数になるような素数は11個しかない. 総和を求めよ.\n",
    "\n",
    "注: 2, 3, 5, 7を切り詰め可能な素数とは考えない."
   ]
  },
  {
   "cell_type": "code",
   "execution_count": 93,
   "metadata": {
    "scrolled": true
   },
   "outputs": [
    {
     "name": "stdout",
     "output_type": "stream",
     "text": [
      "[23, 37, 53, 73, 313, 317, 373, 797, 3137, 3797, 739397]\n",
      "748317\n"
     ]
    }
   ],
   "source": [
    "import math\n",
    "from functools import reduce\n",
    "from collections import Counter\n",
    "from itertools import  product\n",
    "\n",
    "def is_prime(x):\n",
    "    if x < 2: return False \n",
    "    if x == 2 or x == 3 or x == 5: return True \n",
    "    if x % 2 == 0 or x % 3 == 0 or x % 5 == 0: return False \n",
    "    prime = 7\n",
    "    \n",
    "    step = 4\n",
    "    while prime <= math.sqrt(x):\n",
    "        if x % prime == 0: return False\n",
    "\n",
    "        prime += step\n",
    "        step = 6 - step\n",
    "\n",
    "    return True\n",
    "def truncate(num_lis):\n",
    "    dellist = lambda items, indexes: [item for index, item in enumerate(items) if index not in indexes]\n",
    "    nummber=lambda nums:sum([num*10**(len(nums)-index-1) for index, num in enumerate(nums)])\n",
    "    tmp=num_lis\n",
    "    ans=[tmp]\n",
    "    for n in range(1,len(tmp)):\n",
    "        ans.append(dellist(tmp,range(n)))\n",
    "        ans.append(dellist(tmp,range(len(tmp)-n,len(tmp))))\n",
    "    return [nummber(x) for x in ans]\n",
    "def isTruncatable(prime_num):\n",
    "    prime_lis=list(map(int,list(str(prime_num))))\n",
    "    truncated=truncate(prime_lis)\n",
    "    for x in truncated[::-1]:\n",
    "        if is_prime(x)==0:\n",
    "            return 0\n",
    "    return 1\n",
    "count=4 #23,37,53,73\n",
    "#3桁以上は[2,3,5,7]+...[1,3,7,9]...+[3,7]\n",
    "nn=[1,3,7,9]\n",
    "nummber=lambda nums:sum([num*10**(len(nums)-index-1) for index, num in enumerate(nums)])\n",
    "ans=[23,37,53,73]\n",
    "n=3\n",
    "while count<11:\n",
    "    prime_num_list=product(nn,repeat=n)\n",
    "    prime_num=[nummber(x) for x in list(prime_num_list)]\n",
    "    for y in prime_num:\n",
    "        if isTruncatable(y):\n",
    "            ans.append(y)\n",
    "            count+=1\n",
    "    n+=1\n",
    "print(ans)\n",
    "print(sum(ans))"
   ]
  },
  {
   "cell_type": "markdown",
   "metadata": {},
   "source": [
    "# 38 \n",
    "192 に 1, 2, 3 を掛けてみよう.\n",
    "\n",
    "192 × 1 = 192\n",
    "192 × 2 = 384\n",
    "192 × 3 = 576\n",
    "\n",
    "積を連結することで1から9の パンデジタル数 192384576 が得られる. 192384576 を 192 と (1,2,3) の連結積と呼ぶ.\n",
    "\n",
    "同じようにして, 9 を 1,2,3,4,5 と掛け連結することでパンデジタル数 918273645 が得られる. これは 9 と (1,2,3,4,5) との連結積である.\n",
    "\n",
    "整数と (1,2,...,n) (n > 1) との連結積として得られる9桁のパンデジタル数の中で最大のものはいくつか?"
   ]
  },
  {
   "cell_type": "code",
   "execution_count": 1,
   "metadata": {},
   "outputs": [
    {
     "name": "stdout",
     "output_type": "stream",
     "text": [
      "['9', '3', '2', '7', '1', '8', '6', '5', '4']\n"
     ]
    }
   ],
   "source": [
    "def uniq(li):\n",
    "    li_uniq = []\n",
    "    for x in li:\n",
    "        if x not in li_uniq:\n",
    "            li_uniq.append(x)\n",
    "    return li_uniq\n",
    "\n",
    "def ans(x):\n",
    "    while x>9182:\n",
    "       \n",
    "        list1=list(str(x))\n",
    "        list2=list(str(2*x))\n",
    "        if \"0\" in list1 or \"0\" in list2:\n",
    "            x=x-1\n",
    "        elif len(uniq(list1))==4 and len(uniq(list2))==5:\n",
    "            for y in list1:\n",
    "                if y in list2:\n",
    "                    list1[:]=[]\n",
    "                    list2[:]=[]\n",
    "                    break\n",
    "                else:\n",
    "                    continue\n",
    "            if len(list1)>0:\n",
    "                return list1[0:4]+list2[0:5]\n",
    "            else:\n",
    "                x=x-1\n",
    "        else:\n",
    "            x=x-1\n",
    "print (ans(9876))"
   ]
  },
  {
   "cell_type": "markdown",
   "metadata": {},
   "source": [
    "# 39 「整数の直角三角形」 \n",
    "辺の長さが {a,b,c} と整数の3つ組である直角三角形を考え, その周囲の長さを p とする. p = 120のときには3つの解が存在する:\n",
    "\n",
    "{20,48,52}, {24,45,51}, {30,40,50}\n",
    "\n",
    "p ≤ 1000 のとき解の数が最大になる p はいくつか?"
   ]
  },
  {
   "cell_type": "code",
   "execution_count": 1,
   "metadata": {},
   "outputs": [
    {
     "data": {
      "text/plain": [
       "[[3, 4, 5, 12],\n",
       " [8, 6, 10, 24],\n",
       " [5, 12, 13, 30],\n",
       " [15, 8, 17, 40],\n",
       " [12, 16, 20, 48],\n",
       " [7, 24, 25, 56],\n",
       " [24, 10, 26, 60],\n",
       " [21, 20, 29, 70],\n",
       " [16, 30, 34, 80],\n",
       " [9, 40, 41, 90],\n",
       " [35, 12, 37, 84],\n",
       " [32, 24, 40, 96],\n",
       " [27, 36, 45, 108],\n",
       " [20, 48, 52, 120],\n",
       " [11, 60, 61, 132],\n",
       " [48, 14, 50, 112],\n",
       " [45, 28, 53, 126],\n",
       " [40, 42, 58, 140],\n",
       " [33, 56, 65, 154],\n",
       " [24, 70, 74, 168],\n",
       " [13, 84, 85, 182],\n",
       " [63, 16, 65, 144],\n",
       " [60, 32, 68, 160],\n",
       " [55, 48, 73, 176],\n",
       " [48, 64, 80, 192],\n",
       " [39, 80, 89, 208],\n",
       " [28, 96, 100, 224],\n",
       " [15, 112, 113, 240],\n",
       " [80, 18, 82, 180],\n",
       " [77, 36, 85, 198],\n",
       " [72, 54, 90, 216],\n",
       " [65, 72, 97, 234],\n",
       " [56, 90, 106, 252],\n",
       " [45, 108, 117, 270],\n",
       " [32, 126, 130, 288],\n",
       " [17, 144, 145, 306],\n",
       " [99, 20, 101, 220],\n",
       " [96, 40, 104, 240],\n",
       " [91, 60, 109, 260],\n",
       " [84, 80, 116, 280],\n",
       " [75, 100, 125, 300],\n",
       " [64, 120, 136, 320],\n",
       " [51, 140, 149, 340],\n",
       " [36, 160, 164, 360],\n",
       " [19, 180, 181, 380],\n",
       " [120, 22, 122, 264],\n",
       " [117, 44, 125, 286],\n",
       " [112, 66, 130, 308],\n",
       " [105, 88, 137, 330],\n",
       " [96, 110, 146, 352],\n",
       " [85, 132, 157, 374],\n",
       " [72, 154, 170, 396],\n",
       " [57, 176, 185, 418],\n",
       " [40, 198, 202, 440],\n",
       " [21, 220, 221, 462],\n",
       " [143, 24, 145, 312],\n",
       " [140, 48, 148, 336],\n",
       " [135, 72, 153, 360],\n",
       " [128, 96, 160, 384],\n",
       " [119, 120, 169, 408],\n",
       " [108, 144, 180, 432],\n",
       " [95, 168, 193, 456],\n",
       " [80, 192, 208, 480],\n",
       " [63, 216, 225, 504],\n",
       " [44, 240, 244, 528],\n",
       " [23, 264, 265, 552],\n",
       " [168, 26, 170, 364],\n",
       " [165, 52, 173, 390],\n",
       " [160, 78, 178, 416],\n",
       " [153, 104, 185, 442],\n",
       " [144, 130, 194, 468],\n",
       " [133, 156, 205, 494],\n",
       " [120, 182, 218, 520],\n",
       " [105, 208, 233, 546],\n",
       " [88, 234, 250, 572],\n",
       " [69, 260, 269, 598],\n",
       " [48, 286, 290, 624],\n",
       " [25, 312, 313, 650],\n",
       " [195, 28, 197, 420],\n",
       " [192, 56, 200, 448],\n",
       " [187, 84, 205, 476],\n",
       " [180, 112, 212, 504],\n",
       " [171, 140, 221, 532],\n",
       " [160, 168, 232, 560],\n",
       " [147, 196, 245, 588],\n",
       " [132, 224, 260, 616],\n",
       " [115, 252, 277, 644],\n",
       " [96, 280, 296, 672],\n",
       " [75, 308, 317, 700],\n",
       " [52, 336, 340, 728],\n",
       " [27, 364, 365, 756],\n",
       " [224, 30, 226, 480],\n",
       " [221, 60, 229, 510],\n",
       " [216, 90, 234, 540],\n",
       " [209, 120, 241, 570],\n",
       " [200, 150, 250, 600],\n",
       " [189, 180, 261, 630],\n",
       " [176, 210, 274, 660],\n",
       " [161, 240, 289, 690],\n",
       " [144, 270, 306, 720],\n",
       " [125, 300, 325, 750],\n",
       " [104, 330, 346, 780],\n",
       " [81, 360, 369, 810],\n",
       " [56, 390, 394, 840],\n",
       " [29, 420, 421, 870],\n",
       " [255, 32, 257, 544],\n",
       " [252, 64, 260, 576],\n",
       " [247, 96, 265, 608],\n",
       " [240, 128, 272, 640],\n",
       " [231, 160, 281, 672],\n",
       " [220, 192, 292, 704],\n",
       " [207, 224, 305, 736],\n",
       " [192, 256, 320, 768],\n",
       " [175, 288, 337, 800],\n",
       " [156, 320, 356, 832],\n",
       " [135, 352, 377, 864],\n",
       " [112, 384, 400, 896],\n",
       " [87, 416, 425, 928],\n",
       " [60, 448, 452, 960],\n",
       " [31, 480, 481, 992],\n",
       " [288, 34, 290, 612],\n",
       " [285, 68, 293, 646],\n",
       " [280, 102, 298, 680],\n",
       " [273, 136, 305, 714],\n",
       " [264, 170, 314, 748],\n",
       " [253, 204, 325, 782],\n",
       " [240, 238, 338, 816],\n",
       " [225, 272, 353, 850],\n",
       " [208, 306, 370, 884],\n",
       " [189, 340, 389, 918],\n",
       " [168, 374, 410, 952],\n",
       " [145, 408, 433, 986],\n",
       " [323, 36, 325, 684],\n",
       " [320, 72, 328, 720],\n",
       " [315, 108, 333, 756],\n",
       " [308, 144, 340, 792],\n",
       " [299, 180, 349, 828],\n",
       " [288, 216, 360, 864],\n",
       " [275, 252, 373, 900],\n",
       " [260, 288, 388, 936],\n",
       " [243, 324, 405, 972],\n",
       " [360, 38, 362, 760],\n",
       " [357, 76, 365, 798],\n",
       " [352, 114, 370, 836],\n",
       " [345, 152, 377, 874],\n",
       " [336, 190, 386, 912],\n",
       " [325, 228, 397, 950],\n",
       " [312, 266, 410, 988],\n",
       " [399, 40, 401, 840],\n",
       " [396, 80, 404, 880],\n",
       " [391, 120, 409, 920],\n",
       " [384, 160, 416, 960],\n",
       " [375, 200, 425, 1000],\n",
       " [440, 42, 442, 924],\n",
       " [437, 84, 445, 966]]"
      ]
     },
     "execution_count": 1,
     "metadata": {},
     "output_type": "execute_result"
    }
   ],
   "source": [
    "'''\n",
    "m>n\n",
    "a=m^2-n^2\n",
    "b=2mn\n",
    "c=m^2+n^2\n",
    "'''\n",
    "\n",
    "from collections import Counter\n",
    "import itertools\n",
    "counts=Counter()\n",
    "pitags=[]\n",
    "for m in range(1,71):\n",
    "    for n in range(1,m):\n",
    "        a = m**2-n**2\n",
    "        b = 2*m*n\n",
    "        c = m**2+n**2\n",
    "        p = a+b+c\n",
    "        if p <= 1000:\n",
    "            pitags.append(sorted([[a,b,c,p]]))\n",
    "pitags1 = list(itertools.chain.from_iterable(pitags))\n",
    "pitags1"
   ]
  },
  {
   "cell_type": "code",
   "execution_count": 41,
   "metadata": {},
   "outputs": [
    {
     "data": {
      "text/plain": [
       "[[3, 4, 5, 12],\n",
       " [6, 8, 10, 24],\n",
       " [5, 12, 13, 30],\n",
       " [8, 15, 17, 40],\n",
       " [12, 16, 20, 48],\n",
       " [7, 24, 25, 56],\n",
       " [10, 24, 26, 60],\n",
       " [20, 21, 29, 70],\n",
       " [16, 30, 34, 80],\n",
       " [12, 35, 37, 84],\n",
       " [9, 40, 41, 90],\n",
       " [24, 32, 40, 96],\n",
       " [27, 36, 45, 108],\n",
       " [14, 48, 50, 112],\n",
       " [20, 48, 52, 120],\n",
       " [28, 45, 53, 126],\n",
       " [11, 60, 61, 132],\n",
       " [40, 42, 58, 140],\n",
       " [16, 63, 65, 144],\n",
       " [33, 56, 65, 154],\n",
       " [32, 60, 68, 160],\n",
       " [24, 70, 74, 168],\n",
       " [48, 55, 73, 176],\n",
       " [18, 80, 82, 180],\n",
       " [13, 84, 85, 182],\n",
       " [48, 64, 80, 192],\n",
       " [36, 77, 85, 198],\n",
       " [39, 80, 89, 208],\n",
       " [54, 72, 90, 216],\n",
       " [20, 99, 101, 220],\n",
       " [28, 96, 100, 224],\n",
       " [65, 72, 97, 234],\n",
       " [15, 112, 113, 240],\n",
       " [40, 96, 104, 240],\n",
       " [56, 90, 106, 252],\n",
       " [60, 91, 109, 260],\n",
       " [22, 120, 122, 264],\n",
       " [45, 108, 117, 270],\n",
       " [80, 84, 116, 280],\n",
       " [44, 117, 125, 286],\n",
       " [32, 126, 130, 288],\n",
       " [75, 100, 125, 300],\n",
       " [17, 144, 145, 306],\n",
       " [66, 112, 130, 308],\n",
       " [24, 143, 145, 312],\n",
       " [64, 120, 136, 320],\n",
       " [88, 105, 137, 330],\n",
       " [48, 140, 148, 336],\n",
       " [51, 140, 149, 340],\n",
       " [96, 110, 146, 352],\n",
       " [36, 160, 164, 360],\n",
       " [72, 135, 153, 360],\n",
       " [26, 168, 170, 364],\n",
       " [85, 132, 157, 374],\n",
       " [19, 180, 181, 380],\n",
       " [96, 128, 160, 384],\n",
       " [52, 165, 173, 390],\n",
       " [72, 154, 170, 396],\n",
       " [119, 120, 169, 408],\n",
       " [78, 160, 178, 416],\n",
       " [57, 176, 185, 418],\n",
       " [28, 195, 197, 420],\n",
       " [108, 144, 180, 432],\n",
       " [40, 198, 202, 440],\n",
       " [104, 153, 185, 442],\n",
       " [56, 192, 200, 448],\n",
       " [95, 168, 193, 456],\n",
       " [21, 220, 221, 462],\n",
       " [130, 144, 194, 468],\n",
       " [84, 187, 205, 476],\n",
       " [80, 192, 208, 480],\n",
       " [30, 224, 226, 480],\n",
       " [133, 156, 205, 494],\n",
       " [63, 216, 225, 504],\n",
       " [112, 180, 212, 504],\n",
       " [60, 221, 229, 510],\n",
       " [120, 182, 218, 520],\n",
       " [44, 240, 244, 528],\n",
       " [140, 171, 221, 532],\n",
       " [90, 216, 234, 540],\n",
       " [32, 255, 257, 544],\n",
       " [105, 208, 233, 546],\n",
       " [23, 264, 265, 552],\n",
       " [160, 168, 232, 560],\n",
       " [120, 209, 241, 570],\n",
       " [88, 234, 250, 572],\n",
       " [64, 252, 260, 576],\n",
       " [147, 196, 245, 588],\n",
       " [69, 260, 269, 598],\n",
       " [150, 200, 250, 600],\n",
       " [96, 247, 265, 608],\n",
       " [34, 288, 290, 612],\n",
       " [132, 224, 260, 616],\n",
       " [48, 286, 290, 624],\n",
       " [180, 189, 261, 630],\n",
       " [128, 240, 272, 640],\n",
       " [115, 252, 277, 644],\n",
       " [68, 285, 293, 646],\n",
       " [25, 312, 313, 650],\n",
       " [176, 210, 274, 660],\n",
       " [96, 280, 296, 672],\n",
       " [160, 231, 281, 672],\n",
       " [102, 280, 298, 680],\n",
       " [36, 323, 325, 684],\n",
       " [161, 240, 289, 690],\n",
       " [75, 308, 317, 700],\n",
       " [192, 220, 292, 704],\n",
       " [136, 273, 305, 714],\n",
       " [144, 270, 306, 720],\n",
       " [72, 320, 328, 720],\n",
       " [52, 336, 340, 728],\n",
       " [207, 224, 305, 736],\n",
       " [170, 264, 314, 748],\n",
       " [125, 300, 325, 750],\n",
       " [27, 364, 365, 756],\n",
       " [108, 315, 333, 756],\n",
       " [38, 360, 362, 760],\n",
       " [192, 256, 320, 768],\n",
       " [104, 330, 346, 780],\n",
       " [204, 253, 325, 782],\n",
       " [144, 308, 340, 792],\n",
       " [76, 357, 365, 798],\n",
       " [175, 288, 337, 800],\n",
       " [81, 360, 369, 810],\n",
       " [238, 240, 338, 816],\n",
       " [180, 299, 349, 828],\n",
       " [156, 320, 356, 832],\n",
       " [114, 352, 370, 836],\n",
       " [56, 390, 394, 840],\n",
       " [40, 399, 401, 840],\n",
       " [225, 272, 353, 850],\n",
       " [135, 352, 377, 864],\n",
       " [216, 288, 360, 864],\n",
       " [29, 420, 421, 870],\n",
       " [152, 345, 377, 874],\n",
       " [80, 396, 404, 880],\n",
       " [208, 306, 370, 884],\n",
       " [112, 384, 400, 896],\n",
       " [252, 275, 373, 900],\n",
       " [190, 336, 386, 912],\n",
       " [189, 340, 389, 918],\n",
       " [120, 391, 409, 920],\n",
       " [42, 440, 442, 924],\n",
       " [87, 416, 425, 928],\n",
       " [260, 288, 388, 936],\n",
       " [228, 325, 397, 950],\n",
       " [168, 374, 410, 952],\n",
       " [60, 448, 452, 960],\n",
       " [160, 384, 416, 960],\n",
       " [84, 437, 445, 966],\n",
       " [243, 324, 405, 972],\n",
       " [145, 408, 433, 986],\n",
       " [266, 312, 410, 988],\n",
       " [31, 480, 481, 992],\n",
       " [200, 375, 425, 1000]]"
      ]
     },
     "execution_count": 41,
     "metadata": {},
     "output_type": "execute_result"
    }
   ],
   "source": [
    "sorted(pitags,key=lambda x:x[-1])"
   ]
  },
  {
   "cell_type": "markdown",
   "metadata": {},
   "source": [
    "# 40 「チャンパーノウン定数」 \n",
    "正の整数を順に連結して得られる以下の10進の無理数を考える:\n",
    "\n",
    "0.123456789101112131415161718192021...\n",
    "小数第12位は1である.\n",
    "\n",
    "dnで小数第n位の数を表す. d1 × d10 × d100 × d1000 × d10000 × d100000 × d1000000 を求めよ."
   ]
  },
  {
   "cell_type": "code",
   "execution_count": 77,
   "metadata": {},
   "outputs": [
    {
     "name": "stdout",
     "output_type": "stream",
     "text": [
      "1\n",
      "5\n",
      "3\n",
      "7\n",
      "2\n",
      "210\n"
     ]
    }
   ],
   "source": [
    "import itertools\n",
    "def d(x):\n",
    "    key=list(itertools.accumulate([9,180,2700,36000,450000,5400000]))\n",
    "    if x<=key[0]:\n",
    "        return x\n",
    "        \n",
    "    for n in range(1,5):\n",
    "        if x<=key[n]:\n",
    "            r=(x-key[n-1])%(n+1)\n",
    "            q=(x-key[n-1]-r)/(n+1)\n",
    "            if r==0:\n",
    "                strr=str(int(10**n+q-1))\n",
    "                return strr[-1]\n",
    "            else:\n",
    "                strr=str(int(10**n+q))\n",
    "                return strr[r-1]\n",
    "    return \"too big\"\n",
    "ans=1\n",
    "for n in range(1,6):\n",
    "    print(d(10**n))\n",
    "    ans=ans*int(d(10**n))\n",
    "print (ans) "
   ]
  },
  {
   "cell_type": "code",
   "execution_count": null,
   "metadata": {},
   "outputs": [],
   "source": []
  },
  {
   "cell_type": "code",
   "execution_count": null,
   "metadata": {},
   "outputs": [],
   "source": []
  },
  {
   "cell_type": "code",
   "execution_count": null,
   "metadata": {},
   "outputs": [],
   "source": []
  }
 ],
 "metadata": {
  "kernelspec": {
   "display_name": "Python 3",
   "language": "python",
   "name": "python3"
  },
  "language_info": {
   "codemirror_mode": {
    "name": "ipython",
    "version": 3
   },
   "file_extension": ".py",
   "mimetype": "text/x-python",
   "name": "python",
   "nbconvert_exporter": "python",
   "pygments_lexer": "ipython3",
   "version": "3.6.5"
  }
 },
 "nbformat": 4,
 "nbformat_minor": 2
}
