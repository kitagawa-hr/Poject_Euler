{
 "cells": [
  {
   "cell_type": "markdown",
   "metadata": {},
   "source": [
    "# 67 「最大経路の和 その2」 "
   ]
  },
  {
   "cell_type": "code",
   "execution_count": 70,
   "metadata": {},
   "outputs": [
    {
     "data": {
      "text/plain": [
       "7273"
      ]
     },
     "execution_count": 70,
     "metadata": {},
     "output_type": "execute_result"
    }
   ],
   "source": [
    "f=open(\"67.txt\",'r')\n",
    "tri=f.readlines()\n",
    "f.close\n",
    "tri2=[x.split() for x in tri]\n",
    "tri3=[]\n",
    "for n in range(100):\n",
    "    tri3.append([int(x) for x in tri2[n]])\n",
    "\n",
    "#一つ上の行の隣接数のうち最大なものを足した値に上から順次置換　95->170 47->217　など\n",
    "for n in range(1,100):\n",
    "    for m in range(n+1):\n",
    "        if m==0:\n",
    "            tri3[n][m]+=tri3[n-1][m]\n",
    "        elif m==n:\n",
    "            tri3[n][m]+=(tri3[n-1][m-1])           \n",
    "        else:\n",
    "            tri3[n][m]+=max(tri3[n-1][m-1],tri3[n-1][m])\n",
    "max(tri3[99])"
   ]
  },
  {
   "cell_type": "code",
   "execution_count": null,
   "metadata": {},
   "outputs": [],
   "source": []
  }
 ],
 "metadata": {
  "kernelspec": {
   "display_name": "Python 3",
   "language": "python",
   "name": "python3"
  },
  "language_info": {
   "codemirror_mode": {
    "name": "ipython",
    "version": 3
   },
   "file_extension": ".py",
   "mimetype": "text/x-python",
   "name": "python",
   "nbconvert_exporter": "python",
   "pygments_lexer": "ipython3",
   "version": "3.5.2"
  }
 },
 "nbformat": 4,
 "nbformat_minor": 2
}
